{
 "cells": [
  {
   "cell_type": "markdown",
   "metadata": {},
   "source": [
    "# Introductory applied machine learning (INFR10069)"
   ]
  },
  {
   "cell_type": "markdown",
   "metadata": {},
   "source": [
    "# Assignment 3: Object recognition"
   ]
  },
  {
   "cell_type": "markdown",
   "metadata": {},
   "source": [
    "## Marking Breakdown\n",
    "\n",
    "**70-100%** results/answer correct plus extra achievement at understanding or analysis of results. Clear explanations, evidence of creative or deeper thought will contribute to a higher grade.\n",
    "\n",
    "**60-69%** results/answer correct or nearly correct and well explained.\n",
    "\n",
    "**50-59%** results/answer in right direction but significant errors.\n",
    "\n",
    "**40-49%** some evidence that the student has gained some understanding, but not answered the questions\n",
    "properly.\n",
    "\n",
    "**0-39%** serious error or slack work."
   ]
  },
  {
   "cell_type": "markdown",
   "metadata": {},
   "source": [
    "## Mechanics\n",
    "\n",
    "You should produce a Jupyter notebook and a `.txt` file (see Part 2) in answer to this assignment.\n",
    "**You need to submit these two files electronically as described below.**\n",
    "\n",
    "Place your notebook and `.txt` files **only** in a directory called `iamlans` and submit this directory using the submit command on a DICE machine. The format is:\n",
    "\n",
    "`submit iaml 3 iamlans`\n",
    "\n",
    "You can check the status of your submissions with the `show_submissions` command.\n",
    "\n",
    "**Late submissions:** The policy stated in the School of Informatics MSc Degree Guide is that normally you will not be allowed to submit coursework late. See http://www.inf.ed.ac.uk/teaching/years/msc/courseguide10.html#exam for exceptions to this, e.g. in case of serious medical illness or serious personal problems.\n",
    "\n",
    "**Collaboration:** You may discuss the assignment with your colleagues, provided that the writing that you submit is entirely your own. That is, you should NOT borrow actual text or code from other students. We ask that you provide a list of the people who you've had discussions with (if any).\n"
   ]
  },
  {
   "cell_type": "markdown",
   "metadata": {},
   "source": [
    "## Important Instructions\n",
    "\n",
    "1. In the following questions you are asked to run experiments using Python (version 2.7) and the following packages:\n",
    "    * Numpy\n",
    "    * Pandas\n",
    "    * Scikit-learn 0.17\n",
    "    * Matplotlib\n",
    "    * Seaborn\n",
    "\n",
    "2. Before you start make sure you have set up a vitual environment (or conda environment if you are working on your own machine) and the required packages installed. Instructions on how to set-up the working enviornment and install the required packages can be found in `01_Lab_1_Introduction`.\n",
    "\n",
    "3. Wherever you are required to produce code you should use code cells, otherwise you should use markdown cells to report results and explain answers.\n",
    "\n",
    "4. The .csv files that you will be using are located at `./datasets` (the `datasets` directory is adjacent to this file).\n",
    "\n",
    "5. **IMPORTANT:** Keep your answers brief and concise. Most questions can be answered with 2-3 lines of explanation (excluding coding questions), unless stated otherwise."
   ]
  },
  {
   "cell_type": "markdown",
   "metadata": {},
   "source": [
    "## Imports\n",
    "\n",
    "In this assignment you are asked to import all the packages and modules you will need. Include all required imports and execute the cell below."
   ]
  },
  {
   "cell_type": "code",
   "execution_count": 141,
   "metadata": {
    "collapsed": false
   },
   "outputs": [],
   "source": [
    "from __future__ import division #,print_function\n",
    "%matplotlib inline\n",
    "\n",
    "# Your code goes here\n",
    "import math\n",
    "import os\n",
    "import numpy as np \n",
    "import pandas as pd\n",
    "import matplotlib.pyplot as plt\n",
    "import seaborn as sns\n",
    "from sklearn.cross_validation import train_test_split, KFold, cross_val_predict\n",
    "from sklearn.linear_model import LogisticRegression, LogisticRegressionCV\n",
    "from sklearn.ensemble import RandomForestClassifier\n",
    "from sklearn.preprocessing import StandardScaler #LabelEncoder\n",
    "from sklearn.svm import LinearSVC, SVC\n",
    "#from sklearn.svm import LinearSVC, SVC\n",
    "#from sklearn.neighbors import KNeighborsClassifier\n",
    "#from sklearn.metrics import confusion_matrix, log_loss"
   ]
  },
  {
   "cell_type": "code",
   "execution_count": 2,
   "metadata": {
    "collapsed": true
   },
   "outputs": [],
   "source": [
    "seed = 0"
   ]
  },
  {
   "cell_type": "markdown",
   "metadata": {},
   "source": [
    "## Description of the dataset\n",
    "In this assignment our goal is to recognize objects from 19 di\u000b",
    "erent visual classes (e.g. person, dog, cat, car, ...) in realistic scenes. The dataset consists of several thousands photographs harvested from the web. Each object of a relevant class has been manually annotated with a bounding box. Images can contain none, one or multiple objects of each class. We have prepared a [website](http://www.inf.ed.ac.uk/teaching/courses/iaml/2014/assts/asst3/images.html) where you can view the images.\n",
    "\n",
    "Here we will focus on a single classiffication task: you will be required to classify images as to whether or not they contain a person. To save you time and to make the problem manageable with limited computational resources, we have preprocessed the dataset. We will use the [Bag of Visual Words](https://en.wikipedia.org/wiki/Bag-of-words_model_in_computer_vision) representation. That is, each image is represented by a 500 dimensional vector that contains the normalized count for each of 500 diffeerent visual words present in the respective image (a similar representation is used for the spambase dataset, just for real words). Visual words are based on [Scale-invariant feature transforms (SIFT)](https://en.wikipedia.org/wiki/Scale-invariant_feature_transform). SIFT features are essentially local orientation histograms and capture the properties of small image regions. They possess attractive invariance properties which make them well suited for our task (you can read more about SIFT features in [D.Lowe, IJCV 60(2):91- 110, 2004](http://link.springer.com/article/10.1023/B:VISI.0000029664.99615.94), but the details don't matter for the purpose of this assignment). Each SIFT feature is a 128 dimensional vector. From each image many SIFT features are extracted, typically > 2500 per image (features are extracted at regular intervals using a 15 pixel grid and at 4 different scales). To obtain visual words a representative subset of all extracted SIFT features from all images is chosen and clustered with k-means using 500 centres (such use of the k-means algorithm will be discussed in detail during the lecture). These 500 cluster centres form our visual words. The representation of a single image is obtained by first assigning each SIFT feature extracted from the image to the appropriate cluster (i.e. we determine the visual word corresponding to each feature by picking the closest cluster centre). We then count the number of features from that image assigned to each cluster (i.e. we determine how often each visual word is present in the image). This results in a 500 dimensional count vector for each image (one dimension for each visual word). The normalized version of this count vector gives the final representation of the image (normalized means that we divide the count vector by the total number of visual words in the image, i.e. the normalized counts sum to 1 for each image). Our dataset with all images is thus a $N \\times 500$ dimensional matrix where `N` is the number of images. The resulting representation is much more compact and can be used directly to perform classiffication.\n",
    "\n",
    "The full dataset has 520 attributes (dimensions). The first attribute (`imgID`) contains the image ID which allows you to associate a data point with an actual image. The next 500 attributes (`dim1`, ..., `dim500`) correspond to the normalized count vector. The last 19 attributes (`is_class`) indicate the presence of at least one object of a particular class in the image. In most of the experiments (unless explicitly noted otherwise) you will be asked to train classiffiers for classifying person vs. non-person images and only the `is_person` attribute and the 500 dimensional feature vector will be used. Do not use the additional class indicator attributes as features unless explicitly told to do so. \n",
    "\n",
    "In Part A we provide you with a training (`train_images partA.csv`) and a validation (`valid_images partA .csv`) dataset. In Part B we provide three data sets: a training set (`train_images partB.csv`), a validation set (`valid_images partB.csv`), and a test set (`test_images partB.csv`). The training and validation set contain valid labels. In the test set the labels are missing. The files are available from the GitHub repository. \n",
    "\n",
    "*Important: Throughout the assignment you will be given various versions of the dataset that are relevant\n",
    "to a particular question. Please be careful to use the correct version of the dataset when instructed to do so.\n",
    "If you use the wrong version of the dataset by mistake no marks will be awarded.*"
   ]
  },
  {
   "cell_type": "markdown",
   "metadata": {},
   "source": [
    "## 1. Exploration of the dataset [70%]"
   ]
  },
  {
   "cell_type": "markdown",
   "metadata": {},
   "source": [
    "### ========== Question 1.1 ==========\n",
    "Load the datasets `train_images_partA.csv` and `valid_images_partA.csv` into two pandas DataFrame called `train_A` and `valid_A`. Display the number of data points and attributes in each of the two datasets."
   ]
  },
  {
   "cell_type": "code",
   "execution_count": 3,
   "metadata": {
    "collapsed": true
   },
   "outputs": [],
   "source": [
    "def loadDataset(name):\n",
    "    data_path = os.path.join(os.getcwd(), 'datasets', name + '.csv')\n",
    "    return pd.read_csv(data_path, delimiter = ',')"
   ]
  },
  {
   "cell_type": "code",
   "execution_count": 4,
   "metadata": {
    "collapsed": false
   },
   "outputs": [],
   "source": [
    "# Your code goes here\n",
    "trainA = loadDataset('train_images_partA')\n",
    "validA = loadDataset('valid_images_partA')"
   ]
  },
  {
   "cell_type": "code",
   "execution_count": 5,
   "metadata": {
    "collapsed": false
   },
   "outputs": [
    {
     "name": "stdout",
     "output_type": "stream",
     "text": [
      "number of data points for training data of partA\n",
      "2093\n",
      "\n",
      "number of data points for validation data of partA\n",
      "1113\n"
     ]
    }
   ],
   "source": [
    "print \"number of data points for training data of partA\"\n",
    "print len(trainA)\n",
    "print\n",
    "print \"number of data points for validation data of partA\"\n",
    "print len(validA)"
   ]
  },
  {
   "cell_type": "code",
   "execution_count": 6,
   "metadata": {
    "collapsed": false
   },
   "outputs": [
    {
     "name": "stdout",
     "output_type": "stream",
     "text": [
      "number of attributes for training data of partA\n",
      "520\n",
      "\n",
      "number of attributes for validation data of partA\n",
      "520\n"
     ]
    }
   ],
   "source": [
    "print \"number of attributes for training data of partA\"\n",
    "print len(trainA.columns)\n",
    "print\n",
    "print \"number of attributes for validation data of partA\"\n",
    "print len(validA.columns)"
   ]
  },
  {
   "cell_type": "markdown",
   "metadata": {},
   "source": [
    "### ========== Question 1.2 ==========\n",
    "Display and inspect the first 10 instances in the training dataset."
   ]
  },
  {
   "cell_type": "code",
   "execution_count": 7,
   "metadata": {
    "collapsed": false
   },
   "outputs": [
    {
     "data": {
      "text/html": [
       "<div>\n",
       "<table border=\"1\" class=\"dataframe\">\n",
       "  <thead>\n",
       "    <tr style=\"text-align: right;\">\n",
       "      <th></th>\n",
       "      <th>imgId</th>\n",
       "      <th>dim1</th>\n",
       "      <th>dim2</th>\n",
       "      <th>dim3</th>\n",
       "      <th>dim4</th>\n",
       "      <th>dim5</th>\n",
       "      <th>dim6</th>\n",
       "      <th>dim7</th>\n",
       "      <th>dim8</th>\n",
       "      <th>dim9</th>\n",
       "      <th>...</th>\n",
       "      <th>is_cow</th>\n",
       "      <th>is_diningtable</th>\n",
       "      <th>is_dog</th>\n",
       "      <th>is_horse</th>\n",
       "      <th>is_motorbike</th>\n",
       "      <th>is_person</th>\n",
       "      <th>is_pottedplant</th>\n",
       "      <th>is_sheep</th>\n",
       "      <th>is_sofa</th>\n",
       "      <th>is_tvmonitor</th>\n",
       "    </tr>\n",
       "  </thead>\n",
       "  <tbody>\n",
       "    <tr>\n",
       "      <th>0</th>\n",
       "      <td>2008_000008</td>\n",
       "      <td>0.002232</td>\n",
       "      <td>0.000558</td>\n",
       "      <td>0.002790</td>\n",
       "      <td>0.000837</td>\n",
       "      <td>0.001674</td>\n",
       "      <td>0.001953</td>\n",
       "      <td>0.001395</td>\n",
       "      <td>0.002232</td>\n",
       "      <td>0.003627</td>\n",
       "      <td>...</td>\n",
       "      <td>0</td>\n",
       "      <td>0</td>\n",
       "      <td>0</td>\n",
       "      <td>1</td>\n",
       "      <td>0</td>\n",
       "      <td>1</td>\n",
       "      <td>0</td>\n",
       "      <td>0</td>\n",
       "      <td>0</td>\n",
       "      <td>0</td>\n",
       "    </tr>\n",
       "    <tr>\n",
       "      <th>1</th>\n",
       "      <td>2008_000015</td>\n",
       "      <td>0.001563</td>\n",
       "      <td>0.000391</td>\n",
       "      <td>0.007422</td>\n",
       "      <td>0.003516</td>\n",
       "      <td>0.003906</td>\n",
       "      <td>0.005078</td>\n",
       "      <td>0.001953</td>\n",
       "      <td>0.002344</td>\n",
       "      <td>0.001953</td>\n",
       "      <td>...</td>\n",
       "      <td>0</td>\n",
       "      <td>0</td>\n",
       "      <td>0</td>\n",
       "      <td>0</td>\n",
       "      <td>0</td>\n",
       "      <td>0</td>\n",
       "      <td>0</td>\n",
       "      <td>0</td>\n",
       "      <td>0</td>\n",
       "      <td>0</td>\n",
       "    </tr>\n",
       "    <tr>\n",
       "      <th>2</th>\n",
       "      <td>2008_000019</td>\n",
       "      <td>0.000521</td>\n",
       "      <td>0.000000</td>\n",
       "      <td>0.000000</td>\n",
       "      <td>0.001042</td>\n",
       "      <td>0.001563</td>\n",
       "      <td>0.005729</td>\n",
       "      <td>0.000521</td>\n",
       "      <td>0.002083</td>\n",
       "      <td>0.003646</td>\n",
       "      <td>...</td>\n",
       "      <td>0</td>\n",
       "      <td>0</td>\n",
       "      <td>1</td>\n",
       "      <td>0</td>\n",
       "      <td>0</td>\n",
       "      <td>0</td>\n",
       "      <td>0</td>\n",
       "      <td>0</td>\n",
       "      <td>0</td>\n",
       "      <td>0</td>\n",
       "    </tr>\n",
       "    <tr>\n",
       "      <th>3</th>\n",
       "      <td>2008_000023</td>\n",
       "      <td>0.002976</td>\n",
       "      <td>0.002232</td>\n",
       "      <td>0.004464</td>\n",
       "      <td>0.000372</td>\n",
       "      <td>0.000372</td>\n",
       "      <td>0.002232</td>\n",
       "      <td>0.000000</td>\n",
       "      <td>0.003720</td>\n",
       "      <td>0.000000</td>\n",
       "      <td>...</td>\n",
       "      <td>0</td>\n",
       "      <td>0</td>\n",
       "      <td>0</td>\n",
       "      <td>0</td>\n",
       "      <td>0</td>\n",
       "      <td>1</td>\n",
       "      <td>0</td>\n",
       "      <td>0</td>\n",
       "      <td>0</td>\n",
       "      <td>1</td>\n",
       "    </tr>\n",
       "    <tr>\n",
       "      <th>4</th>\n",
       "      <td>2008_000028</td>\n",
       "      <td>0.001359</td>\n",
       "      <td>0.000340</td>\n",
       "      <td>0.001359</td>\n",
       "      <td>0.000340</td>\n",
       "      <td>0.001359</td>\n",
       "      <td>0.002038</td>\n",
       "      <td>0.002378</td>\n",
       "      <td>0.000000</td>\n",
       "      <td>0.003397</td>\n",
       "      <td>...</td>\n",
       "      <td>0</td>\n",
       "      <td>0</td>\n",
       "      <td>0</td>\n",
       "      <td>0</td>\n",
       "      <td>0</td>\n",
       "      <td>0</td>\n",
       "      <td>0</td>\n",
       "      <td>0</td>\n",
       "      <td>0</td>\n",
       "      <td>0</td>\n",
       "    </tr>\n",
       "    <tr>\n",
       "      <th>5</th>\n",
       "      <td>2008_000033</td>\n",
       "      <td>0.000000</td>\n",
       "      <td>0.006324</td>\n",
       "      <td>0.000372</td>\n",
       "      <td>0.000372</td>\n",
       "      <td>0.000372</td>\n",
       "      <td>0.000372</td>\n",
       "      <td>0.000744</td>\n",
       "      <td>0.008185</td>\n",
       "      <td>0.000372</td>\n",
       "      <td>...</td>\n",
       "      <td>0</td>\n",
       "      <td>0</td>\n",
       "      <td>0</td>\n",
       "      <td>0</td>\n",
       "      <td>0</td>\n",
       "      <td>0</td>\n",
       "      <td>0</td>\n",
       "      <td>0</td>\n",
       "      <td>0</td>\n",
       "      <td>0</td>\n",
       "    </tr>\n",
       "    <tr>\n",
       "      <th>6</th>\n",
       "      <td>2008_000036</td>\n",
       "      <td>0.000340</td>\n",
       "      <td>0.000000</td>\n",
       "      <td>0.004416</td>\n",
       "      <td>0.000340</td>\n",
       "      <td>0.000679</td>\n",
       "      <td>0.006114</td>\n",
       "      <td>0.001359</td>\n",
       "      <td>0.002717</td>\n",
       "      <td>0.003057</td>\n",
       "      <td>...</td>\n",
       "      <td>0</td>\n",
       "      <td>0</td>\n",
       "      <td>0</td>\n",
       "      <td>0</td>\n",
       "      <td>0</td>\n",
       "      <td>1</td>\n",
       "      <td>0</td>\n",
       "      <td>0</td>\n",
       "      <td>0</td>\n",
       "      <td>0</td>\n",
       "    </tr>\n",
       "    <tr>\n",
       "      <th>7</th>\n",
       "      <td>2008_000037</td>\n",
       "      <td>0.000837</td>\n",
       "      <td>0.002232</td>\n",
       "      <td>0.000279</td>\n",
       "      <td>0.000279</td>\n",
       "      <td>0.000837</td>\n",
       "      <td>0.000000</td>\n",
       "      <td>0.000279</td>\n",
       "      <td>0.006696</td>\n",
       "      <td>0.000000</td>\n",
       "      <td>...</td>\n",
       "      <td>0</td>\n",
       "      <td>0</td>\n",
       "      <td>0</td>\n",
       "      <td>0</td>\n",
       "      <td>0</td>\n",
       "      <td>0</td>\n",
       "      <td>0</td>\n",
       "      <td>0</td>\n",
       "      <td>0</td>\n",
       "      <td>0</td>\n",
       "    </tr>\n",
       "    <tr>\n",
       "      <th>8</th>\n",
       "      <td>2008_000041</td>\n",
       "      <td>0.002378</td>\n",
       "      <td>0.001359</td>\n",
       "      <td>0.004755</td>\n",
       "      <td>0.001019</td>\n",
       "      <td>0.003736</td>\n",
       "      <td>0.001359</td>\n",
       "      <td>0.001019</td>\n",
       "      <td>0.004076</td>\n",
       "      <td>0.003397</td>\n",
       "      <td>...</td>\n",
       "      <td>0</td>\n",
       "      <td>1</td>\n",
       "      <td>0</td>\n",
       "      <td>0</td>\n",
       "      <td>0</td>\n",
       "      <td>1</td>\n",
       "      <td>0</td>\n",
       "      <td>0</td>\n",
       "      <td>0</td>\n",
       "      <td>0</td>\n",
       "    </tr>\n",
       "    <tr>\n",
       "      <th>9</th>\n",
       "      <td>2008_000045</td>\n",
       "      <td>0.001019</td>\n",
       "      <td>0.000340</td>\n",
       "      <td>0.006454</td>\n",
       "      <td>0.001698</td>\n",
       "      <td>0.001359</td>\n",
       "      <td>0.003736</td>\n",
       "      <td>0.000000</td>\n",
       "      <td>0.004076</td>\n",
       "      <td>0.000000</td>\n",
       "      <td>...</td>\n",
       "      <td>0</td>\n",
       "      <td>0</td>\n",
       "      <td>0</td>\n",
       "      <td>0</td>\n",
       "      <td>0</td>\n",
       "      <td>0</td>\n",
       "      <td>0</td>\n",
       "      <td>0</td>\n",
       "      <td>0</td>\n",
       "      <td>0</td>\n",
       "    </tr>\n",
       "  </tbody>\n",
       "</table>\n",
       "<p>10 rows × 520 columns</p>\n",
       "</div>"
      ],
      "text/plain": [
       "         imgId      dim1      dim2      dim3      dim4      dim5      dim6  \\\n",
       "0  2008_000008  0.002232  0.000558  0.002790  0.000837  0.001674  0.001953   \n",
       "1  2008_000015  0.001563  0.000391  0.007422  0.003516  0.003906  0.005078   \n",
       "2  2008_000019  0.000521  0.000000  0.000000  0.001042  0.001563  0.005729   \n",
       "3  2008_000023  0.002976  0.002232  0.004464  0.000372  0.000372  0.002232   \n",
       "4  2008_000028  0.001359  0.000340  0.001359  0.000340  0.001359  0.002038   \n",
       "5  2008_000033  0.000000  0.006324  0.000372  0.000372  0.000372  0.000372   \n",
       "6  2008_000036  0.000340  0.000000  0.004416  0.000340  0.000679  0.006114   \n",
       "7  2008_000037  0.000837  0.002232  0.000279  0.000279  0.000837  0.000000   \n",
       "8  2008_000041  0.002378  0.001359  0.004755  0.001019  0.003736  0.001359   \n",
       "9  2008_000045  0.001019  0.000340  0.006454  0.001698  0.001359  0.003736   \n",
       "\n",
       "       dim7      dim8      dim9      ...       is_cow  is_diningtable  is_dog  \\\n",
       "0  0.001395  0.002232  0.003627      ...            0               0       0   \n",
       "1  0.001953  0.002344  0.001953      ...            0               0       0   \n",
       "2  0.000521  0.002083  0.003646      ...            0               0       1   \n",
       "3  0.000000  0.003720  0.000000      ...            0               0       0   \n",
       "4  0.002378  0.000000  0.003397      ...            0               0       0   \n",
       "5  0.000744  0.008185  0.000372      ...            0               0       0   \n",
       "6  0.001359  0.002717  0.003057      ...            0               0       0   \n",
       "7  0.000279  0.006696  0.000000      ...            0               0       0   \n",
       "8  0.001019  0.004076  0.003397      ...            0               1       0   \n",
       "9  0.000000  0.004076  0.000000      ...            0               0       0   \n",
       "\n",
       "   is_horse  is_motorbike  is_person  is_pottedplant  is_sheep  is_sofa  \\\n",
       "0         1             0          1               0         0        0   \n",
       "1         0             0          0               0         0        0   \n",
       "2         0             0          0               0         0        0   \n",
       "3         0             0          1               0         0        0   \n",
       "4         0             0          0               0         0        0   \n",
       "5         0             0          0               0         0        0   \n",
       "6         0             0          1               0         0        0   \n",
       "7         0             0          0               0         0        0   \n",
       "8         0             0          1               0         0        0   \n",
       "9         0             0          0               0         0        0   \n",
       "\n",
       "   is_tvmonitor  \n",
       "0             0  \n",
       "1             0  \n",
       "2             0  \n",
       "3             1  \n",
       "4             0  \n",
       "5             0  \n",
       "6             0  \n",
       "7             0  \n",
       "8             0  \n",
       "9             0  \n",
       "\n",
       "[10 rows x 520 columns]"
      ]
     },
     "execution_count": 7,
     "metadata": {},
     "output_type": "execute_result"
    }
   ],
   "source": [
    "# Your code goes here\n",
    "trainA[:10]"
   ]
  },
  {
   "cell_type": "code",
   "execution_count": 8,
   "metadata": {
    "collapsed": false
   },
   "outputs": [
    {
     "data": {
      "text/html": [
       "<div>\n",
       "<table border=\"1\" class=\"dataframe\">\n",
       "  <thead>\n",
       "    <tr style=\"text-align: right;\">\n",
       "      <th></th>\n",
       "      <th>imgId</th>\n",
       "      <th>dim1</th>\n",
       "      <th>dim2</th>\n",
       "      <th>dim3</th>\n",
       "      <th>dim4</th>\n",
       "      <th>dim5</th>\n",
       "      <th>dim6</th>\n",
       "      <th>dim7</th>\n",
       "      <th>dim8</th>\n",
       "      <th>dim9</th>\n",
       "      <th>...</th>\n",
       "      <th>is_cow</th>\n",
       "      <th>is_diningtable</th>\n",
       "      <th>is_dog</th>\n",
       "      <th>is_horse</th>\n",
       "      <th>is_motorbike</th>\n",
       "      <th>is_person</th>\n",
       "      <th>is_pottedplant</th>\n",
       "      <th>is_sheep</th>\n",
       "      <th>is_sofa</th>\n",
       "      <th>is_tvmonitor</th>\n",
       "    </tr>\n",
       "  </thead>\n",
       "  <tbody>\n",
       "    <tr>\n",
       "      <th>0</th>\n",
       "      <td>2008_002199</td>\n",
       "      <td>0.001698</td>\n",
       "      <td>0.000000</td>\n",
       "      <td>0.003057</td>\n",
       "      <td>0.002378</td>\n",
       "      <td>0.001019</td>\n",
       "      <td>0.001698</td>\n",
       "      <td>0.000340</td>\n",
       "      <td>0.001019</td>\n",
       "      <td>0.001359</td>\n",
       "      <td>...</td>\n",
       "      <td>0</td>\n",
       "      <td>0</td>\n",
       "      <td>0</td>\n",
       "      <td>0</td>\n",
       "      <td>0</td>\n",
       "      <td>1</td>\n",
       "      <td>0</td>\n",
       "      <td>0</td>\n",
       "      <td>0</td>\n",
       "      <td>0</td>\n",
       "    </tr>\n",
       "    <tr>\n",
       "      <th>1</th>\n",
       "      <td>2008_002179</td>\n",
       "      <td>0.002038</td>\n",
       "      <td>0.000000</td>\n",
       "      <td>0.004076</td>\n",
       "      <td>0.001019</td>\n",
       "      <td>0.001019</td>\n",
       "      <td>0.001019</td>\n",
       "      <td>0.000679</td>\n",
       "      <td>0.001019</td>\n",
       "      <td>0.001019</td>\n",
       "      <td>...</td>\n",
       "      <td>0</td>\n",
       "      <td>0</td>\n",
       "      <td>0</td>\n",
       "      <td>0</td>\n",
       "      <td>1</td>\n",
       "      <td>1</td>\n",
       "      <td>0</td>\n",
       "      <td>0</td>\n",
       "      <td>0</td>\n",
       "      <td>0</td>\n",
       "    </tr>\n",
       "    <tr>\n",
       "      <th>2</th>\n",
       "      <td>2008_002495</td>\n",
       "      <td>0.001116</td>\n",
       "      <td>0.000000</td>\n",
       "      <td>0.005208</td>\n",
       "      <td>0.001860</td>\n",
       "      <td>0.001116</td>\n",
       "      <td>0.000000</td>\n",
       "      <td>0.001488</td>\n",
       "      <td>0.002232</td>\n",
       "      <td>0.001116</td>\n",
       "      <td>...</td>\n",
       "      <td>0</td>\n",
       "      <td>0</td>\n",
       "      <td>0</td>\n",
       "      <td>0</td>\n",
       "      <td>0</td>\n",
       "      <td>1</td>\n",
       "      <td>0</td>\n",
       "      <td>0</td>\n",
       "      <td>0</td>\n",
       "      <td>0</td>\n",
       "    </tr>\n",
       "    <tr>\n",
       "      <th>3</th>\n",
       "      <td>2008_007171</td>\n",
       "      <td>0.001698</td>\n",
       "      <td>0.000340</td>\n",
       "      <td>0.004076</td>\n",
       "      <td>0.000679</td>\n",
       "      <td>0.002038</td>\n",
       "      <td>0.001019</td>\n",
       "      <td>0.002038</td>\n",
       "      <td>0.001019</td>\n",
       "      <td>0.000340</td>\n",
       "      <td>...</td>\n",
       "      <td>0</td>\n",
       "      <td>0</td>\n",
       "      <td>0</td>\n",
       "      <td>0</td>\n",
       "      <td>0</td>\n",
       "      <td>1</td>\n",
       "      <td>0</td>\n",
       "      <td>0</td>\n",
       "      <td>0</td>\n",
       "      <td>0</td>\n",
       "    </tr>\n",
       "    <tr>\n",
       "      <th>4</th>\n",
       "      <td>2008_003793</td>\n",
       "      <td>0.003736</td>\n",
       "      <td>0.001019</td>\n",
       "      <td>0.000679</td>\n",
       "      <td>0.001019</td>\n",
       "      <td>0.003736</td>\n",
       "      <td>0.002038</td>\n",
       "      <td>0.002038</td>\n",
       "      <td>0.001359</td>\n",
       "      <td>0.002717</td>\n",
       "      <td>...</td>\n",
       "      <td>0</td>\n",
       "      <td>0</td>\n",
       "      <td>0</td>\n",
       "      <td>0</td>\n",
       "      <td>0</td>\n",
       "      <td>1</td>\n",
       "      <td>0</td>\n",
       "      <td>0</td>\n",
       "      <td>0</td>\n",
       "      <td>0</td>\n",
       "    </tr>\n",
       "    <tr>\n",
       "      <th>5</th>\n",
       "      <td>2008_007585</td>\n",
       "      <td>0.002378</td>\n",
       "      <td>0.000000</td>\n",
       "      <td>0.003057</td>\n",
       "      <td>0.002717</td>\n",
       "      <td>0.001698</td>\n",
       "      <td>0.001698</td>\n",
       "      <td>0.001359</td>\n",
       "      <td>0.002038</td>\n",
       "      <td>0.005095</td>\n",
       "      <td>...</td>\n",
       "      <td>0</td>\n",
       "      <td>0</td>\n",
       "      <td>0</td>\n",
       "      <td>0</td>\n",
       "      <td>0</td>\n",
       "      <td>1</td>\n",
       "      <td>0</td>\n",
       "      <td>0</td>\n",
       "      <td>0</td>\n",
       "      <td>0</td>\n",
       "    </tr>\n",
       "    <tr>\n",
       "      <th>6</th>\n",
       "      <td>2008_001255</td>\n",
       "      <td>0.003057</td>\n",
       "      <td>0.000000</td>\n",
       "      <td>0.009511</td>\n",
       "      <td>0.001359</td>\n",
       "      <td>0.001698</td>\n",
       "      <td>0.000340</td>\n",
       "      <td>0.002378</td>\n",
       "      <td>0.005095</td>\n",
       "      <td>0.002038</td>\n",
       "      <td>...</td>\n",
       "      <td>0</td>\n",
       "      <td>0</td>\n",
       "      <td>0</td>\n",
       "      <td>0</td>\n",
       "      <td>0</td>\n",
       "      <td>1</td>\n",
       "      <td>0</td>\n",
       "      <td>0</td>\n",
       "      <td>0</td>\n",
       "      <td>0</td>\n",
       "    </tr>\n",
       "    <tr>\n",
       "      <th>7</th>\n",
       "      <td>2008_000984</td>\n",
       "      <td>0.000744</td>\n",
       "      <td>0.000372</td>\n",
       "      <td>0.001860</td>\n",
       "      <td>0.001860</td>\n",
       "      <td>0.002232</td>\n",
       "      <td>0.002232</td>\n",
       "      <td>0.002604</td>\n",
       "      <td>0.000372</td>\n",
       "      <td>0.001860</td>\n",
       "      <td>...</td>\n",
       "      <td>0</td>\n",
       "      <td>0</td>\n",
       "      <td>0</td>\n",
       "      <td>0</td>\n",
       "      <td>0</td>\n",
       "      <td>1</td>\n",
       "      <td>0</td>\n",
       "      <td>0</td>\n",
       "      <td>0</td>\n",
       "      <td>0</td>\n",
       "    </tr>\n",
       "    <tr>\n",
       "      <th>8</th>\n",
       "      <td>2008_008474</td>\n",
       "      <td>0.003057</td>\n",
       "      <td>0.000000</td>\n",
       "      <td>0.002717</td>\n",
       "      <td>0.005095</td>\n",
       "      <td>0.001698</td>\n",
       "      <td>0.002378</td>\n",
       "      <td>0.001019</td>\n",
       "      <td>0.000000</td>\n",
       "      <td>0.001359</td>\n",
       "      <td>...</td>\n",
       "      <td>0</td>\n",
       "      <td>1</td>\n",
       "      <td>0</td>\n",
       "      <td>0</td>\n",
       "      <td>0</td>\n",
       "      <td>1</td>\n",
       "      <td>0</td>\n",
       "      <td>0</td>\n",
       "      <td>0</td>\n",
       "      <td>0</td>\n",
       "    </tr>\n",
       "    <tr>\n",
       "      <th>9</th>\n",
       "      <td>2008_000204</td>\n",
       "      <td>0.002437</td>\n",
       "      <td>0.000000</td>\n",
       "      <td>0.007310</td>\n",
       "      <td>0.000975</td>\n",
       "      <td>0.000000</td>\n",
       "      <td>0.002924</td>\n",
       "      <td>0.000000</td>\n",
       "      <td>0.000000</td>\n",
       "      <td>0.001949</td>\n",
       "      <td>...</td>\n",
       "      <td>0</td>\n",
       "      <td>0</td>\n",
       "      <td>0</td>\n",
       "      <td>0</td>\n",
       "      <td>0</td>\n",
       "      <td>1</td>\n",
       "      <td>0</td>\n",
       "      <td>0</td>\n",
       "      <td>0</td>\n",
       "      <td>0</td>\n",
       "    </tr>\n",
       "  </tbody>\n",
       "</table>\n",
       "<p>10 rows × 520 columns</p>\n",
       "</div>"
      ],
      "text/plain": [
       "         imgId      dim1      dim2      dim3      dim4      dim5      dim6  \\\n",
       "0  2008_002199  0.001698  0.000000  0.003057  0.002378  0.001019  0.001698   \n",
       "1  2008_002179  0.002038  0.000000  0.004076  0.001019  0.001019  0.001019   \n",
       "2  2008_002495  0.001116  0.000000  0.005208  0.001860  0.001116  0.000000   \n",
       "3  2008_007171  0.001698  0.000340  0.004076  0.000679  0.002038  0.001019   \n",
       "4  2008_003793  0.003736  0.001019  0.000679  0.001019  0.003736  0.002038   \n",
       "5  2008_007585  0.002378  0.000000  0.003057  0.002717  0.001698  0.001698   \n",
       "6  2008_001255  0.003057  0.000000  0.009511  0.001359  0.001698  0.000340   \n",
       "7  2008_000984  0.000744  0.000372  0.001860  0.001860  0.002232  0.002232   \n",
       "8  2008_008474  0.003057  0.000000  0.002717  0.005095  0.001698  0.002378   \n",
       "9  2008_000204  0.002437  0.000000  0.007310  0.000975  0.000000  0.002924   \n",
       "\n",
       "       dim7      dim8      dim9      ...       is_cow  is_diningtable  is_dog  \\\n",
       "0  0.000340  0.001019  0.001359      ...            0               0       0   \n",
       "1  0.000679  0.001019  0.001019      ...            0               0       0   \n",
       "2  0.001488  0.002232  0.001116      ...            0               0       0   \n",
       "3  0.002038  0.001019  0.000340      ...            0               0       0   \n",
       "4  0.002038  0.001359  0.002717      ...            0               0       0   \n",
       "5  0.001359  0.002038  0.005095      ...            0               0       0   \n",
       "6  0.002378  0.005095  0.002038      ...            0               0       0   \n",
       "7  0.002604  0.000372  0.001860      ...            0               0       0   \n",
       "8  0.001019  0.000000  0.001359      ...            0               1       0   \n",
       "9  0.000000  0.000000  0.001949      ...            0               0       0   \n",
       "\n",
       "   is_horse  is_motorbike  is_person  is_pottedplant  is_sheep  is_sofa  \\\n",
       "0         0             0          1               0         0        0   \n",
       "1         0             1          1               0         0        0   \n",
       "2         0             0          1               0         0        0   \n",
       "3         0             0          1               0         0        0   \n",
       "4         0             0          1               0         0        0   \n",
       "5         0             0          1               0         0        0   \n",
       "6         0             0          1               0         0        0   \n",
       "7         0             0          1               0         0        0   \n",
       "8         0             0          1               0         0        0   \n",
       "9         0             0          1               0         0        0   \n",
       "\n",
       "   is_tvmonitor  \n",
       "0             0  \n",
       "1             0  \n",
       "2             0  \n",
       "3             0  \n",
       "4             0  \n",
       "5             0  \n",
       "6             0  \n",
       "7             0  \n",
       "8             0  \n",
       "9             0  \n",
       "\n",
       "[10 rows x 520 columns]"
      ]
     },
     "execution_count": 8,
     "metadata": {},
     "output_type": "execute_result"
    }
   ],
   "source": [
    "validA[:10]"
   ]
  },
  {
   "cell_type": "markdown",
   "metadata": {},
   "source": [
    "### ========== Question 1.3 ==========\n",
    "In this part we want to select the appopriate attributes (i.e. input features) for training our classifiers. These should be the attributes `dim1, dim2, ..., dim500`. Create a list which has as elements the **names** of the attributes of interest. "
   ]
  },
  {
   "cell_type": "code",
   "execution_count": 9,
   "metadata": {
    "collapsed": false
   },
   "outputs": [],
   "source": [
    "# Your code goes here\n",
    "noOfVisualWords = 500"
   ]
  },
  {
   "cell_type": "code",
   "execution_count": 10,
   "metadata": {
    "collapsed": true
   },
   "outputs": [],
   "source": [
    "cols = trainA.columns"
   ]
  },
  {
   "cell_type": "code",
   "execution_count": 11,
   "metadata": {
    "collapsed": false
   },
   "outputs": [
    {
     "data": {
      "text/plain": [
       "Index([u'dim1', u'dim2', u'dim3', u'dim4', u'dim5', u'dim6', u'dim7', u'dim8',\n",
       "       u'dim9', u'dim10',\n",
       "       ...\n",
       "       u'dim491', u'dim492', u'dim493', u'dim494', u'dim495', u'dim496',\n",
       "       u'dim497', u'dim498', u'dim499', u'dim500'],\n",
       "      dtype='object', length=500)"
      ]
     },
     "execution_count": 11,
     "metadata": {},
     "output_type": "execute_result"
    }
   ],
   "source": [
    "inputFeatures = cols[[\"dim\" in colName for colName in cols]]\n",
    "inputFeatures"
   ]
  },
  {
   "cell_type": "code",
   "execution_count": 12,
   "metadata": {
    "collapsed": true
   },
   "outputs": [],
   "source": [
    "assert len(inputFeatures) == noOfVisualWords, \"we should be able to get the right number of features\""
   ]
  },
  {
   "cell_type": "markdown",
   "metadata": {},
   "source": [
    "### ========== Question 1.4 --- [1 mark] ==========\n",
    "By using the list from Question 1.3 now create 4 numpy arrays `X_tr`, `X_val`, `y_tr` and `y_val` and store the training features, validation features, training targets, and validation targets, respectively. Your target vectors should correspond to the `is_person` attribute of the training and validation sets (also make sure you do not include this attribute in your training features). Display the dimensionalities (i.e shapes) of the 4 arrays and make sure your input data are 500-dimensional."
   ]
  },
  {
   "cell_type": "code",
   "execution_count": 13,
   "metadata": {
    "collapsed": true
   },
   "outputs": [],
   "source": [
    "targetName = 'is_person'"
   ]
  },
  {
   "cell_type": "code",
   "execution_count": 14,
   "metadata": {
    "collapsed": false
   },
   "outputs": [],
   "source": [
    "# Your code goes here\n",
    "Xtr = trainA[inputFeatures]\n",
    "Xval = validA[inputFeatures]\n",
    "yTr = trainA[targetName]\n",
    "yVal = validA[targetName]"
   ]
  },
  {
   "cell_type": "code",
   "execution_count": 15,
   "metadata": {
    "collapsed": false
   },
   "outputs": [
    {
     "name": "stdout",
     "output_type": "stream",
     "text": [
      "dimesionality of training input data\n",
      "(2093, 500)\n",
      "\n",
      "dimesionality of validation input data\n",
      "(1113, 500)\n",
      "\n",
      "dimesionality of training target data\n",
      "(2093,)\n",
      "\n",
      "dimesionality of validation target data\n",
      "(1113,)\n"
     ]
    }
   ],
   "source": [
    "print \"dimesionality of training input data\"\n",
    "print Xtr.shape\n",
    "print\n",
    "print \"dimesionality of validation input data\"\n",
    "print Xval.shape\n",
    "print\n",
    "print \"dimesionality of training target data\"\n",
    "print yTr.shape\n",
    "print\n",
    "print \"dimesionality of validation target data\"\n",
    "print yVal.shape"
   ]
  },
  {
   "cell_type": "code",
   "execution_count": 16,
   "metadata": {
    "collapsed": true
   },
   "outputs": [],
   "source": [
    "assert len(Xtr.columns) == len(Xval.columns) and len(Xval.columns) == noOfVisualWords, \\\n",
    "    \"input features must be of proper size\"\n",
    "assert len(yTr.shape) == len(yVal.shape), \"training and validation targets must be one dimensional\""
   ]
  },
  {
   "cell_type": "markdown",
   "metadata": {},
   "source": [
    "### ========== Question 1.5 ==========\n",
    "Show two [countplots](https://seaborn.github.io/generated/seaborn.countplot.html?highlight=countplot#seaborn.countplot) of the targets in a single plot, one for the training and one for the validation set. Label axes appropriately and add a title to your plot. Use descriptive `xticklabels` instead of the default numeric ones."
   ]
  },
  {
   "cell_type": "code",
   "execution_count": 17,
   "metadata": {
    "collapsed": false
   },
   "outputs": [
    {
     "data": {
      "text/html": [
       "<div>\n",
       "<table border=\"1\" class=\"dataframe\">\n",
       "  <thead>\n",
       "    <tr style=\"text-align: right;\">\n",
       "      <th></th>\n",
       "      <th>is_person</th>\n",
       "      <th>role</th>\n",
       "    </tr>\n",
       "  </thead>\n",
       "  <tbody>\n",
       "    <tr>\n",
       "      <th>0</th>\n",
       "      <td>1</td>\n",
       "      <td>Training</td>\n",
       "    </tr>\n",
       "    <tr>\n",
       "      <th>1</th>\n",
       "      <td>0</td>\n",
       "      <td>Training</td>\n",
       "    </tr>\n",
       "  </tbody>\n",
       "</table>\n",
       "</div>"
      ],
      "text/plain": [
       "   is_person      role\n",
       "0          1  Training\n",
       "1          0  Training"
      ]
     },
     "execution_count": 17,
     "metadata": {},
     "output_type": "execute_result"
    }
   ],
   "source": [
    "#test.append(verify_integrity=True)\n",
    "#yTr.to_frame()\n",
    "trainingTargetsDataset = yTr.to_frame()\n",
    "trainingTargetsDataset['role'] = pd.Series(np.repeat('Training', len(yTr)))\n",
    "\n",
    "trainingTargetsDataset[:2]"
   ]
  },
  {
   "cell_type": "code",
   "execution_count": 18,
   "metadata": {
    "collapsed": false
   },
   "outputs": [
    {
     "data": {
      "text/html": [
       "<div>\n",
       "<table border=\"1\" class=\"dataframe\">\n",
       "  <thead>\n",
       "    <tr style=\"text-align: right;\">\n",
       "      <th></th>\n",
       "      <th>is_person</th>\n",
       "      <th>role</th>\n",
       "    </tr>\n",
       "  </thead>\n",
       "  <tbody>\n",
       "    <tr>\n",
       "      <th>0</th>\n",
       "      <td>1</td>\n",
       "      <td>Validation</td>\n",
       "    </tr>\n",
       "    <tr>\n",
       "      <th>1</th>\n",
       "      <td>1</td>\n",
       "      <td>Validation</td>\n",
       "    </tr>\n",
       "  </tbody>\n",
       "</table>\n",
       "</div>"
      ],
      "text/plain": [
       "   is_person        role\n",
       "0          1  Validation\n",
       "1          1  Validation"
      ]
     },
     "execution_count": 18,
     "metadata": {},
     "output_type": "execute_result"
    }
   ],
   "source": [
    "validationTargetsDataset = yVal.to_frame()\n",
    "validationTargetsDataset['role'] = pd.Series(np.repeat('Validation', len(yVal)))\n",
    "\n",
    "validationTargetsDataset[:2]"
   ]
  },
  {
   "cell_type": "code",
   "execution_count": 19,
   "metadata": {
    "collapsed": false
   },
   "outputs": [
    {
     "name": "stdout",
     "output_type": "stream",
     "text": [
      "   is_person      role\n",
      "0          1  Training\n",
      "1          0  Training\n"
     ]
    },
    {
     "data": {
      "text/html": [
       "<div>\n",
       "<table border=\"1\" class=\"dataframe\">\n",
       "  <thead>\n",
       "    <tr style=\"text-align: right;\">\n",
       "      <th></th>\n",
       "      <th>is_person</th>\n",
       "      <th>role</th>\n",
       "    </tr>\n",
       "  </thead>\n",
       "  <tbody>\n",
       "    <tr>\n",
       "      <th>1111</th>\n",
       "      <td>0</td>\n",
       "      <td>Validation</td>\n",
       "    </tr>\n",
       "    <tr>\n",
       "      <th>1112</th>\n",
       "      <td>0</td>\n",
       "      <td>Validation</td>\n",
       "    </tr>\n",
       "  </tbody>\n",
       "</table>\n",
       "</div>"
      ],
      "text/plain": [
       "      is_person        role\n",
       "1111          0  Validation\n",
       "1112          0  Validation"
      ]
     },
     "execution_count": 19,
     "metadata": {},
     "output_type": "execute_result"
    }
   ],
   "source": [
    "targetsDataset = trainingTargetsDataset.append(validationTargetsDataset)\n",
    "print targetsDataset[:2]\n",
    "targetsDataset[-2:]"
   ]
  },
  {
   "cell_type": "code",
   "execution_count": 20,
   "metadata": {
    "collapsed": false
   },
   "outputs": [
    {
     "data": {
      "text/plain": [
       "<matplotlib.text.Text at 0x7f926f027650>"
      ]
     },
     "execution_count": 20,
     "metadata": {},
     "output_type": "execute_result"
    },
    {
     "data": {
      "image/png": "[encoded data removed]",
      "text/plain": [
       "<matplotlib.figure.Figure at 0x7f926f7e9d90>"
      ]
     },
     "metadata": {},
     "output_type": "display_data"
    }
   ],
   "source": [
    "# Your code goes here\n",
    "#ata = yTr.append(yVal)\n",
    "#ssert len(data) == (len(yTr) + len(yVal))\n",
    "\n",
    "sns.countplot(x=\"role\", hue='is_person', data=targetsDataset)\n",
    "sns.plt.title('Count the number of training and validation images which contain or not a person')"
   ]
  },
  {
   "cell_type": "markdown",
   "metadata": {},
   "source": [
    "This case is not too bad because it shows that this is a balanced problem. An approximate equally number of pictures are characterized containing a person and not containg a person both in the validation and training dataset"
   ]
  },
  {
   "cell_type": "markdown",
   "metadata": {},
   "source": [
    "### ========== Question 1.6 ==========\n",
    "What would be a good choice for a baseline classifier to compare your results in the next steps against? What classification accuracy score does the baseline classifier achieve in the validation set?"
   ]
  },
  {
   "cell_type": "markdown",
   "metadata": {},
   "source": [
    "*Your answer goes here*\n",
    "\n",
    "The baseline classifier is a dummy classifier which is based on the prior probability. We always guess the most probable class and gain a classification accuracy this way"
   ]
  },
  {
   "cell_type": "code",
   "execution_count": 21,
   "metadata": {
    "collapsed": false
   },
   "outputs": [
    {
     "name": "stdout",
     "output_type": "stream",
     "text": [
      "the classification accuracy of the baseline classifier for training data is\n"
     ]
    },
    {
     "data": {
      "text/plain": [
       "0.5508838987099857"
      ]
     },
     "execution_count": 21,
     "metadata": {},
     "output_type": "execute_result"
    }
   ],
   "source": [
    "# Your code goes here\n",
    "countIsPerson = len(yTr[yTr==True])\n",
    "countIsNotPerson = len(yTr) - countIsPerson\n",
    "\n",
    "print \"the classification accuracy of the baseline classifier for training data is\"\n",
    "max(countIsPerson, countIsNotPerson) / len(yTr)"
   ]
  },
  {
   "cell_type": "code",
   "execution_count": 22,
   "metadata": {
    "collapsed": false
   },
   "outputs": [
    {
     "name": "stdout",
     "output_type": "stream",
     "text": [
      "the classification accuracy of the baseline classifier for validation data is\n"
     ]
    },
    {
     "data": {
      "text/plain": [
       "0.5265049415992812"
      ]
     },
     "execution_count": 22,
     "metadata": {},
     "output_type": "execute_result"
    }
   ],
   "source": [
    "# Your code goes here\n",
    "countIsPerson = len(yVal[yVal==True])\n",
    "countIsNotPerson = len(yVal) - countIsPerson\n",
    "\n",
    "print \"the classification accuracy of the baseline classifier for validation data is\"\n",
    "max(countIsPerson, countIsNotPerson) / len(yVal)"
   ]
  },
  {
   "cell_type": "markdown",
   "metadata": {},
   "source": [
    "### ========== Question 1.7 ==========\n",
    "Train a [`LogisticRegression`](http://scikit-learn.org/0.17/modules/generated/sklearn.linear_model.LogisticRegression.html) classifier by using default settings, except for the `solver` parameter which you should set to `lbfgs`. Report the classification accuracy score in the training and validation sets and compare to that of the baseline classifier. Comment in 1-2 sentences the results. You may include any additional plot(s) if you wish to justify your explanation."
   ]
  },
  {
   "cell_type": "code",
   "execution_count": 23,
   "metadata": {
    "collapsed": false
   },
   "outputs": [],
   "source": [
    "# Your code goes here\n",
    "logisticRegressionClassifier = LogisticRegression(solver='lbfgs')"
   ]
  },
  {
   "cell_type": "code",
   "execution_count": 24,
   "metadata": {
    "collapsed": false
   },
   "outputs": [
    {
     "data": {
      "text/plain": [
       "LogisticRegression(C=1.0, class_weight=None, dual=False, fit_intercept=True,\n",
       "          intercept_scaling=1, max_iter=100, multi_class='ovr', n_jobs=1,\n",
       "          penalty='l2', random_state=None, solver='lbfgs', tol=0.0001,\n",
       "          verbose=0, warm_start=False)"
      ]
     },
     "execution_count": 24,
     "metadata": {},
     "output_type": "execute_result"
    }
   ],
   "source": [
    "logisticRegressionClassifier.fit(Xtr, yTr)"
   ]
  },
  {
   "cell_type": "code",
   "execution_count": 25,
   "metadata": {
    "collapsed": false
   },
   "outputs": [
    {
     "name": "stdout",
     "output_type": "stream",
     "text": [
      "score of logistic regression classifier on training data\n",
      "0.55088389871\n",
      "\n",
      "score of logistic regression classifier on validation data\n",
      "0.526504941599\n"
     ]
    }
   ],
   "source": [
    "print \"score of logistic regression classifier on training data\"\n",
    "print logisticRegressionClassifier.score(Xtr, yTr)\n",
    "print\n",
    "print \"score of logistic regression classifier on validation data\"\n",
    "print logisticRegressionClassifier.score(Xval, yVal)"
   ]
  },
  {
   "cell_type": "code",
   "execution_count": 26,
   "metadata": {
    "collapsed": false
   },
   "outputs": [
    {
     "name": "stdout",
     "output_type": "stream",
     "text": [
      "True\n"
     ]
    },
    {
     "data": {
      "text/plain": [
       "True"
      ]
     },
     "execution_count": 26,
     "metadata": {},
     "output_type": "execute_result"
    }
   ],
   "source": [
    "print np.all(logisticRegressionClassifier.predict(Xval) == 0)\n",
    "np.all(logisticRegressionClassifier.predict(Xtr) == 0)"
   ]
  },
  {
   "cell_type": "markdown",
   "metadata": {},
   "source": [
    "*Your answer goes here*\n",
    "\n",
    "Logistic regression seems to fail completely since from the previous cell we see that it calculates all values as zero, meaning non person, which is the most probable class, which is why the score is as low as the dummy classifier"
   ]
  },
  {
   "cell_type": "code",
   "execution_count": 27,
   "metadata": {
    "collapsed": false
   },
   "outputs": [
    {
     "data": {
      "text/plain": [
       "<seaborn.axisgrid.PairGrid at 0x7f926ef7b890>"
      ]
     },
     "execution_count": 27,
     "metadata": {},
     "output_type": "execute_result"
    },
    {
     "data": {
      "image/png": "[encoded data removed]",
      "text/plain": [
       "<matplotlib.figure.Figure at 0x7f926ef7b990>"
      ]
     },
     "metadata": {},
     "output_type": "display_data"
    }
   ],
   "source": [
    "sns.pairplot(\n",
    "    trainA,\n",
    "    x_vars=[Xtr.columns[0]],\n",
    "    y_vars=[Xtr.columns[1]],\n",
    "    size=7, hue=targetName, markers=['o','+']\n",
    ")"
   ]
  },
  {
   "cell_type": "code",
   "execution_count": 28,
   "metadata": {
    "collapsed": false
   },
   "outputs": [
    {
     "data": {
      "text/plain": [
       "<seaborn.axisgrid.PairGrid at 0x7f926ef4a250>"
      ]
     },
     "execution_count": 28,
     "metadata": {},
     "output_type": "execute_result"
    },
    {
     "data": {
      "image/png": "[encoded data removed]",
      "text/plain": [
       "<matplotlib.figure.Figure at 0x7f926ef4a290>"
      ]
     },
     "metadata": {},
     "output_type": "display_data"
    }
   ],
   "source": [
    "sns.pairplot(\n",
    "    trainA,\n",
    "    x_vars=[Xtr.columns[0]],\n",
    "    y_vars=[Xtr.columns[-1]],\n",
    "    size=7, hue=targetName, markers=['o','+']\n",
    ")"
   ]
  },
  {
   "cell_type": "markdown",
   "metadata": {},
   "source": [
    "*Your answer goes here*\n",
    "\n",
    "By plotting two plots of feature0 vs feature1 and feature0 vs last feature we end up to a first hint that without preprocessing the data are falling on top of each other and we will not be able to distinguish them by a line which is the decision boundary of logistic regression."
   ]
  },
  {
   "cell_type": "code",
   "execution_count": 29,
   "metadata": {
    "collapsed": false
   },
   "outputs": [
    {
     "data": {
      "text/plain": [
       "LogisticRegression(C=1.0, class_weight=None, dual=False, fit_intercept=True,\n",
       "          intercept_scaling=1, max_iter=100, multi_class='ovr', n_jobs=1,\n",
       "          penalty='l2', random_state=None, solver='lbfgs', tol=0.0001,\n",
       "          verbose=0, warm_start=False)"
      ]
     },
     "execution_count": 29,
     "metadata": {},
     "output_type": "execute_result"
    }
   ],
   "source": [
    "cls1D = LogisticRegression(solver='lbfgs')\n",
    "firstFeature = Xtr[Xtr.columns[0]].values[np.newaxis].T\n",
    "cls1D.fit(firstFeature, yTr)"
   ]
  },
  {
   "cell_type": "code",
   "execution_count": 30,
   "metadata": {
    "collapsed": false
   },
   "outputs": [
    {
     "name": "stdout",
     "output_type": "stream",
     "text": [
      "[[ 0.10389246]]\n",
      "[-0.20442546]\n"
     ]
    }
   ],
   "source": [
    "print cls1D.coef_\n",
    "print cls1D.intercept_"
   ]
  },
  {
   "cell_type": "code",
   "execution_count": 31,
   "metadata": {
    "collapsed": false
   },
   "outputs": [
    {
     "data": {
      "text/plain": [
       "(20,)"
      ]
     },
     "execution_count": 31,
     "metadata": {},
     "output_type": "execute_result"
    }
   ],
   "source": [
    "xspace = np.arange(-0.01, 0.01, 0.001)\n",
    "xspace.shape"
   ]
  },
  {
   "cell_type": "code",
   "execution_count": 32,
   "metadata": {
    "collapsed": false
   },
   "outputs": [
    {
     "data": {
      "text/plain": [
       "(20,)"
      ]
     },
     "execution_count": 32,
     "metadata": {},
     "output_type": "execute_result"
    }
   ],
   "source": [
    "def getSigmoid(xspace):\n",
    "    return 1 / (1 + np.exp(cls1D.coef_[0][0] * xspace + cls1D.intercept_[0]))\n",
    "\n",
    "getSigmoid(xspace).shape"
   ]
  },
  {
   "cell_type": "code",
   "execution_count": 33,
   "metadata": {
    "collapsed": false
   },
   "outputs": [],
   "source": [
    "firstFeatureNoPerson = trainA[trainA[targetName] == 0][Xtr.columns[0]] #firstFeature[yTr==0] #this is not working :(\n",
    "firstFeatureIsPerson = trainA[trainA[targetName] == 1][Xtr.columns[0]]"
   ]
  },
  {
   "cell_type": "code",
   "execution_count": 34,
   "metadata": {
    "collapsed": false
   },
   "outputs": [
    {
     "data": {
      "image/png": "[encoded data removed]",
      "text/plain": [
       "<matplotlib.figure.Figure at 0x7f926f013e10>"
      ]
     },
     "metadata": {},
     "output_type": "display_data"
    }
   ],
   "source": [
    "fig = plt.figure()\n",
    "plt.hold(True)\n",
    "plt.plot(xspace, getSigmoid(xspace), 'b-')\n",
    "plt.plot(firstFeatureNoPerson, getSigmoid(firstFeatureNoPerson), 'r.')\n",
    "plt.plot(firstFeatureIsPerson, getSigmoid(firstFeatureIsPerson), 'g.')\n",
    "plt.hold(False)\n",
    "plt.show()"
   ]
  },
  {
   "cell_type": "markdown",
   "metadata": {},
   "source": [
    "*Your answer goes here*\n",
    "\n",
    "To get more intuition of what is going on we are plotting the sigmoid that we have after fitting, this is the blue line, against what the values are for the first feature of the training data.\n",
    "\n",
    "We are also plotting with red and green dots the \"is person\" and the \"is not person\" classes correspondigly and where their inputs fall on the sigmoid.\n",
    "\n",
    "We see that all fall on the positive side therefore it makes sense that this fitting has failed as all inputs are going to be predicted as on the lower side of the sigmoid which is the zero."
   ]
  },
  {
   "cell_type": "markdown",
   "metadata": {},
   "source": [
    "### ========== Question 1.8 ==========\n",
    "Display the means and standard deviations of the first 5 features in the training set. *Hint: you want to compute the means and standard deviations across the columns of your arrays. Make sure you make appropriate use of the `axis` parameter.*"
   ]
  },
  {
   "cell_type": "code",
   "execution_count": 35,
   "metadata": {
    "collapsed": false
   },
   "outputs": [
    {
     "data": {
      "text/plain": [
       "(2093, 5)"
      ]
     },
     "execution_count": 35,
     "metadata": {},
     "output_type": "execute_result"
    }
   ],
   "source": [
    "# Your code goes here\n",
    "np.set_printoptions(precision=3)\n",
    "\n",
    "firstFiveFeatures = Xtr[Xtr.columns[:5]]\n",
    "firstFiveFeatures.shape"
   ]
  },
  {
   "cell_type": "code",
   "execution_count": 36,
   "metadata": {
    "collapsed": false
   },
   "outputs": [
    {
     "name": "stdout",
     "output_type": "stream",
     "text": [
      "the mean values of the first five features\n",
      "dim1    0.001751\n",
      "dim2    0.000756\n",
      "dim3    0.004317\n",
      "dim4    0.001853\n",
      "dim5    0.002272\n",
      "dtype: float64\n",
      "\n",
      "the standard deviations of the first five features\n"
     ]
    },
    {
     "data": {
      "text/plain": [
       "dim1    0.001193\n",
       "dim2    0.001406\n",
       "dim3    0.003693\n",
       "dim4    0.001340\n",
       "dim5    0.001598\n",
       "dtype: float64"
      ]
     },
     "execution_count": 36,
     "metadata": {},
     "output_type": "execute_result"
    }
   ],
   "source": [
    "print \"the mean values of the first five features\"\n",
    "print np.mean(firstFiveFeatures, axis=0) #axis = 0 is per column for numpy\n",
    "print\n",
    "print \"the standard deviations of the first five features\"\n",
    "np.std(firstFiveFeatures, axis = 0 ) #axis = 0 is per column for numpy"
   ]
  },
  {
   "cell_type": "markdown",
   "metadata": {},
   "source": [
    "### ========== Question 1.9 ==========\n",
    "Feature standardisation is a pre-processing technique used to transform data so that they have zero mean and unit standard deviation. For many algorithms, this is a very important step for training models (both regression and classification). Read about [feature standardisation](http://scikit-learn.org/0.17/modules/preprocessing.html) and make sure you understand what kind of transformation this method applies to the data.\n",
    "\n",
    "`Scikit-learn` offers an [implementation](http://scikit-learn.org/0.17/modules/generated/sklearn.preprocessing.StandardScaler.html) of feature standardisation. Create a standardiser and fit it by using training features only. Then transform both your input and validation input features. \n",
    "\n",
    "Once your training and validation input data have been transformed, display the means and standard deviations of the first 5 attributes for **both** the training and validation sets. Are the results as you expected? Explain your answer in 2-3 sentences. \n",
    "\n",
    "**IMPORTANT: You should use the transformed data for the rest of part A**."
   ]
  },
  {
   "cell_type": "code",
   "execution_count": 37,
   "metadata": {
    "collapsed": false
   },
   "outputs": [],
   "source": [
    "# Your code goes here\n",
    "standardScaler = StandardScaler()"
   ]
  },
  {
   "cell_type": "code",
   "execution_count": 38,
   "metadata": {
    "collapsed": false
   },
   "outputs": [
    {
     "data": {
      "text/plain": [
       "StandardScaler(copy=True, with_mean=True, with_std=True)"
      ]
     },
     "execution_count": 38,
     "metadata": {},
     "output_type": "execute_result"
    }
   ],
   "source": [
    "standardScaler.fit(Xtr)"
   ]
  },
  {
   "cell_type": "code",
   "execution_count": 39,
   "metadata": {
    "collapsed": false
   },
   "outputs": [
    {
     "data": {
      "text/plain": [
       "(2093, 500)"
      ]
     },
     "execution_count": 39,
     "metadata": {},
     "output_type": "execute_result"
    }
   ],
   "source": [
    "Xtrain = standardScaler.transform(Xtr)\n",
    "Xtrain.shape"
   ]
  },
  {
   "cell_type": "code",
   "execution_count": 40,
   "metadata": {
    "collapsed": false
   },
   "outputs": [
    {
     "data": {
      "text/plain": [
       "(1113, 500)"
      ]
     },
     "execution_count": 40,
     "metadata": {},
     "output_type": "execute_result"
    }
   ],
   "source": [
    "# we fit on training data and we apply the SAME transformation on the validation data\n",
    "# because whatever you do on the training data you have to do exactly the same on the testing or validation data\n",
    "\n",
    "Xvalid = standardScaler.transform(Xval)\n",
    "Xvalid.shape"
   ]
  },
  {
   "cell_type": "code",
   "execution_count": 41,
   "metadata": {
    "collapsed": true
   },
   "outputs": [],
   "source": [
    "def getMeansAndStds(array, noOfFirstAttrs):\n",
    "    #firstFeatures = dataset[dataset.columns[:noOfFirstAttrs]]\n",
    "    firstFeatures = array[:, :noOfFirstAttrs]\n",
    "    assert firstFeatures.shape[0] > firstFeatures.shape[1], \"in general we expect more lines than columns\"\n",
    "    assert firstFeatures.shape[1] == noOfFirstAttrs, \"just to be sure that the transformation was ok\"\n",
    "    \n",
    "    print \"the mean values of the %d first features\" % noOfFirstAttrs\n",
    "    print np.mean(firstFeatures, axis=0) #axis = 0 is per column for numpy\n",
    "    print\n",
    "    print \"the standard deviations of the %d first features\" % noOfFirstAttrs\n",
    "    print np.std(firstFeatures, axis = 0 ) #axis = 0 is per column for numpy"
   ]
  },
  {
   "cell_type": "code",
   "execution_count": 42,
   "metadata": {
    "collapsed": false
   },
   "outputs": [
    {
     "name": "stdout",
     "output_type": "stream",
     "text": [
      "the mean values of the 5 first features\n",
      "[ -3.395e-17  -2.207e-17   2.444e-16   1.426e-16  -5.771e-17]\n",
      "\n",
      "the standard deviations of the 5 first features\n",
      "[ 1.  1.  1.  1.  1.]\n"
     ]
    }
   ],
   "source": [
    "getMeansAndStds(Xtrain, 5)"
   ]
  },
  {
   "cell_type": "markdown",
   "metadata": {},
   "source": [
    "*Your answer goes here*\n",
    "\n",
    "Yes the standard scaler brings the mean to zero and the standard deviation to one.\n",
    "\n",
    "As we see the standard deviations for all first five features are exactly equal to one and the means are zero (with rounding errors)"
   ]
  },
  {
   "cell_type": "code",
   "execution_count": 43,
   "metadata": {
    "collapsed": false
   },
   "outputs": [
    {
     "name": "stdout",
     "output_type": "stream",
     "text": [
      "the mean values of the 5 first features\n",
      "[-0.006 -0.038  0.109  0.094  0.031]\n",
      "\n",
      "the standard deviations of the 5 first features\n",
      "[ 1.013  0.97   1.049  1.057  0.975]\n"
     ]
    }
   ],
   "source": [
    "getMeansAndStds(Xvalid, 5)"
   ]
  },
  {
   "cell_type": "markdown",
   "metadata": {},
   "source": [
    "*Your answer goes here*\n",
    "\n",
    "Since the standarization has happened by subtracting the mean and dividing by the standard deviation, we are going to follow the exact same transformation on the validation data.\n",
    "\n",
    "Unless we are very lucky and the validation data represent the distribution of our data as good as the training data then here the mean will not be exactly zero and the standard deviation will not be exactly 1.\n",
    "\n",
    "However hopefully we want the mean and std of the validation data to be close to zero and one respectively. Otherwise it would mean that the validation belong to some other very different distribution and our predictions will be poor."
   ]
  },
  {
   "cell_type": "markdown",
   "metadata": {},
   "source": [
    "### ========== Question 1.10 ==========\n",
    "By using the transformed input data, retrain a `LogisticRegression` classifier. Again, set the `solver` parameter to `lbfgs` and use default settings for the other parameters. Report the classification accuracy in both the training and validation sets. How does your model compare to the baseline classifier from Question 1.6? You may use additional plot(s) to support your explanation."
   ]
  },
  {
   "cell_type": "code",
   "execution_count": 44,
   "metadata": {
    "collapsed": false
   },
   "outputs": [
    {
     "data": {
      "text/plain": [
       "LogisticRegression(C=1.0, class_weight=None, dual=False, fit_intercept=True,\n",
       "          intercept_scaling=1, max_iter=100, multi_class='ovr', n_jobs=1,\n",
       "          penalty='l2', random_state=None, solver='lbfgs', tol=0.0001,\n",
       "          verbose=0, warm_start=False)"
      ]
     },
     "execution_count": 44,
     "metadata": {},
     "output_type": "execute_result"
    }
   ],
   "source": [
    "# Your code goes here\n",
    "logisticRegressionClassifier = LogisticRegression(solver='lbfgs')\n",
    "logisticRegressionClassifier.fit(Xtrain, yTr)"
   ]
  },
  {
   "cell_type": "code",
   "execution_count": 45,
   "metadata": {
    "collapsed": false
   },
   "outputs": [
    {
     "name": "stdout",
     "output_type": "stream",
     "text": [
      "classification accuracy for training after standarization:\n",
      "0.810797897754\n"
     ]
    }
   ],
   "source": [
    "print \"classification accuracy for training after standarization:\"\n",
    "print logisticRegressionClassifier.score(Xtrain, yTr)"
   ]
  },
  {
   "cell_type": "code",
   "execution_count": 46,
   "metadata": {
    "collapsed": false
   },
   "outputs": [
    {
     "name": "stdout",
     "output_type": "stream",
     "text": [
      "classification accuracy for validation after standarization:\n",
      "0.643306379155\n"
     ]
    }
   ],
   "source": [
    "print \"classification accuracy for validation after standarization:\"\n",
    "print logisticRegressionClassifier.score(Xvalid, yVal)"
   ]
  },
  {
   "cell_type": "markdown",
   "metadata": {},
   "source": [
    "*Your answer goes here*\n",
    "\n",
    "As we see here the classification accuracy is not as bad as before. High enough for training data and good but not very good for unseen validation data."
   ]
  },
  {
   "cell_type": "code",
   "execution_count": 47,
   "metadata": {
    "collapsed": false
   },
   "outputs": [
    {
     "data": {
      "image/png": "[encoded data removed]",
      "text/plain": [
       "<matplotlib.figure.Figure at 0x7f926f100250>"
      ]
     },
     "metadata": {},
     "output_type": "display_data"
    }
   ],
   "source": [
    "#Let's plot the same graph as in the original case to see how this difference looks like, even for one dimension\n",
    "\n",
    "cls1D = LogisticRegression(solver='lbfgs')\n",
    "firstFeature = Xtrain[:, :1]\n",
    "cls1D.fit(firstFeature, yTr)\n",
    "\n",
    "xspace = np.arange(-3, 7, 0.01)\n",
    "\n",
    "def getSigmoid(x):\n",
    "    return 1 / (1 + np.exp(cls1D.coef_[0][0] * x + cls1D.intercept_[0]))\n",
    "\n",
    "firstFeatureNoPerson = trainA[trainA[targetName] == 0][Xtr.columns[0]].values[np.newaxis].T\n",
    "firstFeatureNoPerson = StandardScaler().fit_transform(firstFeatureNoPerson)\n",
    "\n",
    "firstFeatureIsPerson = trainA[trainA[targetName] == 1][Xtr.columns[0]].values[np.newaxis].T \n",
    "firstFeatureIsPerson = StandardScaler().fit_transform(firstFeatureIsPerson)\n",
    "\n",
    "fig = plt.figure()\n",
    "plt.hold(True)\n",
    "plt.plot(xspace, getSigmoid(xspace), 'b-')\n",
    "plt.plot(firstFeatureNoPerson, getSigmoid(firstFeatureNoPerson), 'r.')\n",
    "plt.plot(firstFeatureIsPerson, getSigmoid(firstFeatureIsPerson), 'g.')\n",
    "plt.hold(False)\n",
    "plt.show()"
   ]
  },
  {
   "cell_type": "markdown",
   "metadata": {},
   "source": [
    "*Your answer goes here*\n",
    "\n",
    "We see from the new plot that now the data range from -2 to +7 and there are values which are larger than 0.5 which makes the classifier not classifying every data as if it belongs in the same class.\n",
    "\n",
    "A simple standarization makes it work better"
   ]
  },
  {
   "cell_type": "markdown",
   "metadata": {},
   "source": [
    "### ========== Question 1.11 ==========\n",
    "So far we have used default settings for training the logistic regression classifier. Now, we want to use [K-fold cross-validation](http://scikit-learn.org/0.17/modules/generated/sklearn.cross_validation.KFold.html) to optimise the regularisation parameter `C`. The regularisation parameter controls the degree to which we wish to penalise large magnitudes for the weight vector. Thus, it helps us prevent overfitting and, for logistic regression, it additionally controls the level of confidence in making predictions.\n",
    "\n",
    "We would like to optimise this parameter **by using the transformed training dataset only** and not the validation set. Create a 3-fold cross-validation object for the training dataset. Set the `shuffle` parameter to `True` and the `random_state` to `0`. By using the cross-validation iterator, display the number of test samples in each iteration fold."
   ]
  },
  {
   "cell_type": "code",
   "execution_count": 48,
   "metadata": {
    "collapsed": false
   },
   "outputs": [],
   "source": [
    "# Your code goes here\n",
    "k = 3\n",
    "kFold = KFold(len(Xtrain), n_folds=k, shuffle=True, random_state=seed)"
   ]
  },
  {
   "cell_type": "code",
   "execution_count": 49,
   "metadata": {
    "collapsed": false
   },
   "outputs": [
    {
     "name": "stdout",
     "output_type": "stream",
     "text": [
      "total number of training data:\n",
      "2093\n",
      "\n",
      "total num of training data divided by three\n",
      "697.666666667\n"
     ]
    }
   ],
   "source": [
    "print \"total number of training data:\"\n",
    "print len(Xtrain)\n",
    "print\n",
    "print \"total num of training data divided by three\"\n",
    "print len(Xtrain)/3."
   ]
  },
  {
   "cell_type": "code",
   "execution_count": 50,
   "metadata": {
    "collapsed": false
   },
   "outputs": [
    {
     "name": "stdout",
     "output_type": "stream",
     "text": [
      "pass 1 of 3-fold the count of training data is: \n",
      "(1395,)\n",
      "pass 1 of 3-fold the count of testing data is: \n",
      "(698,)\n",
      "\n",
      "pass 2 of 3-fold the count of training data is: \n",
      "(1395,)\n",
      "pass 2 of 3-fold the count of testing data is: \n",
      "(698,)\n",
      "\n",
      "pass 3 of 3-fold the count of training data is: \n",
      "(1396,)\n",
      "pass 3 of 3-fold the count of testing data is: \n",
      "(697,)\n",
      "\n"
     ]
    }
   ],
   "source": [
    "count = 1\n",
    "for foldTurn in kFold:\n",
    "    print \"pass %d of %d-fold the count of training data is: \" % (count, k)\n",
    "    print foldTurn[0].shape\n",
    "    print \"pass %d of %d-fold the count of testing data is: \" % (count, k)\n",
    "    print foldTurn[1].shape\n",
    "    print\n",
    "    count += 1"
   ]
  },
  {
   "cell_type": "markdown",
   "metadata": {},
   "source": [
    "### ========== Question 1.12 ========== \n",
    "Now we want to test out different settings for the regularisation parameter `C` by using the cross-validation iterator from the previous question. For each iteration, we want to train multiple classifiers by using a range of values for `C` and then compute the performance within each CV fold. You should use a log-range for `C` from `1e-5` to `1e5` by using 20 equally-spaced values *(hint: look at the `logspace()` function in numpy)*. \n",
    "\n",
    "Create a 2-dimensional array and, for each cross-validation fold and parameter setting pair, compute and store the classification accuracy score e.g. store the score of fold 0 with parameter setting 1 at score_array[0,1]. As previously, set the `solver` parameter to `lbfgs` and use default settings for the other parameters.\n",
    "\n",
    "*(hint: your may want to use two loops in your code; one iterating over CV folds and another one iterating over the values for `C`)*. "
   ]
  },
  {
   "cell_type": "code",
   "execution_count": 51,
   "metadata": {
    "collapsed": false
   },
   "outputs": [
    {
     "name": "stdout",
     "output_type": "stream",
     "text": [
      "(20,)\n"
     ]
    },
    {
     "data": {
      "text/plain": [
       "array([  1.000e-05,   3.360e-05,   1.129e-04,   3.793e-04,   1.274e-03,\n",
       "         4.281e-03,   1.438e-02,   4.833e-02,   1.624e-01,   5.456e-01,\n",
       "         1.833e+00,   6.158e+00,   2.069e+01,   6.952e+01,   2.336e+02,\n",
       "         7.848e+02,   2.637e+03,   8.859e+03,   2.976e+04,   1.000e+05])"
      ]
     },
     "execution_count": 51,
     "metadata": {},
     "output_type": "execute_result"
    }
   ],
   "source": [
    "np.set_printoptions(precision=None)\n",
    "\n",
    "# Your code goes here\n",
    "CsLen = 20\n",
    "Cs = np.logspace(start = -5, stop=5, num=CsLen)\n",
    "assert len(Cs) == CsLen\n",
    "print Cs.shape\n",
    "Cs"
   ]
  },
  {
   "cell_type": "code",
   "execution_count": 52,
   "metadata": {
    "collapsed": false
   },
   "outputs": [
    {
     "data": {
      "text/plain": [
       "(3, 20)"
      ]
     },
     "execution_count": 52,
     "metadata": {},
     "output_type": "execute_result"
    }
   ],
   "source": [
    "scoreArray = np.zeros((k, CsLen))\n",
    "scoreArray.shape"
   ]
  },
  {
   "cell_type": "code",
   "execution_count": 53,
   "metadata": {
    "collapsed": true
   },
   "outputs": [],
   "source": [
    "def onEachKFold(kFoldIterator, inputs, targets, action):\n",
    "    i = 0\n",
    "    for foldTurn in kFoldIterator:\n",
    "        curTrainIndices, curTestingIndices = foldTurn\n",
    "\n",
    "        curXtrain = Xtrain[curTrainIndices]\n",
    "        curYtrain = yTr[curTrainIndices]\n",
    "\n",
    "        curXvalid = Xtrain[curTestingIndices]\n",
    "        curYvalid = yTr[curTestingIndices]    \n",
    "        \n",
    "        action(curXtrain, curYtrain, curXvalid, curYvalid, i)\n",
    "        \n",
    "        i += 1"
   ]
  },
  {
   "cell_type": "code",
   "execution_count": 54,
   "metadata": {
    "collapsed": false
   },
   "outputs": [],
   "source": [
    "def scoreEachC(trainingData, trainingTargets, testingData, testingTargets, i):\n",
    "    j = 0\n",
    "    for C in Cs:\n",
    "        curClassifier = LogisticRegression(solver='lbfgs', C=C)\n",
    "        curClassifier.fit(trainingData, trainingTargets)\n",
    "        \n",
    "        scoreArray[i, j] = curClassifier.score(testingData, testingTargets)\n",
    "        \n",
    "        j += 1"
   ]
  },
  {
   "cell_type": "code",
   "execution_count": 55,
   "metadata": {
    "collapsed": false
   },
   "outputs": [],
   "source": [
    "onEachKFold(kFoldIterator=kFold, inputs=Xtrain, targets = yTr, action=scoreEachC)"
   ]
  },
  {
   "cell_type": "code",
   "execution_count": 56,
   "metadata": {
    "collapsed": false
   },
   "outputs": [
    {
     "data": {
      "text/plain": [
       "array([[ 0.573,  0.629,  0.668,  0.672,  0.688,  0.696,  0.675,  0.67 ,\n",
       "         0.653,  0.659,  0.659,  0.653,  0.649,  0.646,  0.646,  0.649,\n",
       "         0.646,  0.646,  0.649,  0.649],\n",
       "       [ 0.546,  0.632,  0.695,  0.719,  0.729,  0.735,  0.702,  0.675,\n",
       "         0.655,  0.636,  0.632,  0.633,  0.626,  0.628,  0.628,  0.626,\n",
       "         0.626,  0.626,  0.628,  0.626],\n",
       "       [ 0.548,  0.636,  0.643,  0.656,  0.68 ,  0.7  ,  0.681,  0.67 ,\n",
       "         0.663,  0.644,  0.633,  0.626,  0.624,  0.624,  0.624,  0.624,\n",
       "         0.624,  0.624,  0.624,  0.624]])"
      ]
     },
     "execution_count": 56,
     "metadata": {},
     "output_type": "execute_result"
    }
   ],
   "source": [
    "scoreArray"
   ]
  },
  {
   "cell_type": "markdown",
   "metadata": {},
   "source": [
    "### ========== Question 1.13 ========== \n",
    "Plot the mean classification performance (across CV folds) of the logistic regression classifier against the regularisation parameter `C` by using the range from Question 1.12. Use a logarithmic scale for the x-axis and label both axes appropriately. "
   ]
  },
  {
   "cell_type": "code",
   "execution_count": 57,
   "metadata": {
    "collapsed": false
   },
   "outputs": [
    {
     "data": {
      "text/plain": [
       "(20,)"
      ]
     },
     "execution_count": 57,
     "metadata": {},
     "output_type": "execute_result"
    }
   ],
   "source": [
    "# Your code goes here\n",
    "scoreMeans = np.mean(scoreArray, axis=0)\n",
    "scoreMeans.shape"
   ]
  },
  {
   "cell_type": "code",
   "execution_count": 58,
   "metadata": {
    "collapsed": false
   },
   "outputs": [
    {
     "data": {
      "image/png": "[encoded data removed]",
      "text/plain": [
       "<matplotlib.figure.Figure at 0x7f9296fa3750>"
      ]
     },
     "metadata": {},
     "output_type": "display_data"
    }
   ],
   "source": [
    "fig = plt.figure()\n",
    "plt.plot(np.log10(Cs), scoreMeans)\n",
    "plt.title('mean score accuracy on validation set for 3-fold cross validation for Logistic Regression Classifier',\n",
    "         fontsize=12)\n",
    "plt.ylabel('accuracy')\n",
    "plt.xlabel('log10 of C')\n",
    "plt.show()"
   ]
  },
  {
   "cell_type": "markdown",
   "metadata": {},
   "source": [
    "### ========== Question 1.14 ==========\n",
    "Find and display the optimal value for the regularisation parameter `C` of the logistic classifier by using your results from Question 1.12. Similarly to Question 1.13, consider the mean classifiation accuracy across CV folds. By using the optimal value (i.e. the one that yields the highest average classification accuracy) train a new `LogisticRegression` classifier and report the classification accuracy on the validation set. *(Hint: Do not pick the optimal value \"by hand\", instead use an appropriate numpy function).*"
   ]
  },
  {
   "cell_type": "code",
   "execution_count": 59,
   "metadata": {
    "collapsed": false
   },
   "outputs": [
    {
     "name": "stdout",
     "output_type": "stream",
     "text": [
      "optimal value for the regularization parameter C is\n",
      "0.00428133239872\n"
     ]
    }
   ],
   "source": [
    "# Your code goes here\n",
    "optimalC = Cs[np.argmax(scoreMeans)]\n",
    "\n",
    "print \"optimal value for the regularization parameter C is\"\n",
    "print optimalC"
   ]
  },
  {
   "cell_type": "code",
   "execution_count": 60,
   "metadata": {
    "collapsed": false
   },
   "outputs": [
    {
     "data": {
      "text/plain": [
       "LogisticRegression(C=0.0042813323987193914, class_weight=None, dual=False,\n",
       "          fit_intercept=True, intercept_scaling=1, max_iter=100,\n",
       "          multi_class='ovr', n_jobs=1, penalty='l2', random_state=None,\n",
       "          solver='lbfgs', tol=0.0001, verbose=0, warm_start=False)"
      ]
     },
     "execution_count": 60,
     "metadata": {},
     "output_type": "execute_result"
    }
   ],
   "source": [
    "optimalClassifier = LogisticRegression(solver='lbfgs', C = optimalC)\n",
    "optimalClassifier.fit(Xtrain, yTr)"
   ]
  },
  {
   "cell_type": "code",
   "execution_count": 61,
   "metadata": {
    "collapsed": false
   },
   "outputs": [
    {
     "name": "stdout",
     "output_type": "stream",
     "text": [
      "the score of the validation set with the optimal classifier is\n"
     ]
    },
    {
     "data": {
      "text/plain": [
       "0.69631626235399824"
      ]
     },
     "execution_count": 61,
     "metadata": {},
     "output_type": "execute_result"
    }
   ],
   "source": [
    "print \"the score of the validation set with the optimal classifier is\"\n",
    "optimalClassifier.score(Xvalid, yVal)"
   ]
  },
  {
   "cell_type": "markdown",
   "metadata": {},
   "source": [
    "*Your answer goes here*\n",
    "\n",
    "We notice that by using the optimal C value for the Logistic Regression Classifier the score accuracy has improved by a factor of"
   ]
  },
  {
   "cell_type": "code",
   "execution_count": 62,
   "metadata": {
    "collapsed": false
   },
   "outputs": [
    {
     "data": {
      "text/plain": [
       "1.0824022346368716"
      ]
     },
     "execution_count": 62,
     "metadata": {},
     "output_type": "execute_result"
    }
   ],
   "source": [
    "LogisticRegression(solver='lbfgs', C = optimalC).fit(Xtrain,yTr).score(Xvalid, yVal) / LogisticRegression(solver='lbfgs').fit(Xtrain,yTr).score(Xvalid, yVal)"
   ]
  },
  {
   "cell_type": "markdown",
   "metadata": {},
   "source": [
    "### ========== Question 1.15 ========== \n",
    "Scikit-learn offers a [`LogisticRegressionCV`](http://scikit-learn.org/0.17/modules/generated/sklearn.linear_model.LogisticRegressionCV.html) module which implements Logistic Regression with builtin cross-validation to find out the optimal `C` parameter. You can specify the range for the `C` parameter, as well as the cross-validation method you want to use with the `Cs` and `cv` parameters, respectively. Use the `C` range you set up in Question 1.12 and the 3-fold cross-validation iterator from Question 1.11. Once again, train the models by using the `lbfgs` optimisation method and display the optimal value for the parameter `C`. Finally, display the classification accuracy on the validation set. Can you verify that your results are consistent with those from Question 1.14?"
   ]
  },
  {
   "cell_type": "code",
   "execution_count": 78,
   "metadata": {
    "collapsed": false
   },
   "outputs": [
    {
     "data": {
      "text/plain": [
       "3"
      ]
     },
     "execution_count": 78,
     "metadata": {},
     "output_type": "execute_result"
    }
   ],
   "source": [
    "k"
   ]
  },
  {
   "cell_type": "code",
   "execution_count": 79,
   "metadata": {
    "collapsed": false
   },
   "outputs": [
    {
     "data": {
      "text/plain": [
       "array([  1.000e-05,   3.360e-05,   1.129e-04,   3.793e-04,   1.274e-03,\n",
       "         4.281e-03,   1.438e-02,   4.833e-02,   1.624e-01,   5.456e-01,\n",
       "         1.833e+00,   6.158e+00,   2.069e+01,   6.952e+01,   2.336e+02,\n",
       "         7.848e+02,   2.637e+03,   8.859e+03,   2.976e+04,   1.000e+05])"
      ]
     },
     "execution_count": 79,
     "metadata": {},
     "output_type": "execute_result"
    }
   ],
   "source": [
    "Cs"
   ]
  },
  {
   "cell_type": "code",
   "execution_count": 80,
   "metadata": {
    "collapsed": false
   },
   "outputs": [],
   "source": [
    "# Your code goes here\n",
    "logisticRegressionCVclassifier = LogisticRegressionCV(solver='lbfgs', cv=k, Cs=Cs)"
   ]
  },
  {
   "cell_type": "code",
   "execution_count": 81,
   "metadata": {
    "collapsed": false
   },
   "outputs": [
    {
     "data": {
      "text/plain": [
       "LogisticRegressionCV(Cs=array([  1.00000e-05,   3.35982e-05,   1.12884e-04,   3.79269e-04,\n",
       "         1.27427e-03,   4.28133e-03,   1.43845e-02,   4.83293e-02,\n",
       "         1.62378e-01,   5.45559e-01,   1.83298e+00,   6.15848e+00,\n",
       "         2.06914e+01,   6.95193e+01,   2.33572e+02,   7.84760e+02,\n",
       "         2.63665e+03,   8.85867e+03,   2.97635e+04,   1.00000e+05]),\n",
       "           class_weight=None, cv=3, dual=False, fit_intercept=True,\n",
       "           intercept_scaling=1.0, max_iter=100, multi_class='ovr',\n",
       "           n_jobs=1, penalty='l2', random_state=None, refit=True,\n",
       "           scoring=None, solver='lbfgs', tol=0.0001, verbose=0)"
      ]
     },
     "execution_count": 81,
     "metadata": {},
     "output_type": "execute_result"
    }
   ],
   "source": [
    "logisticRegressionCVclassifier.fit(Xtrain, yTr)"
   ]
  },
  {
   "cell_type": "code",
   "execution_count": 82,
   "metadata": {
    "collapsed": false
   },
   "outputs": [
    {
     "data": {
      "text/plain": [
       "0.69631626235399824"
      ]
     },
     "execution_count": 82,
     "metadata": {},
     "output_type": "execute_result"
    }
   ],
   "source": [
    "logisticRegressionCVclassifier.score(Xvalid, yVal)"
   ]
  },
  {
   "cell_type": "code",
   "execution_count": 84,
   "metadata": {
    "collapsed": false
   },
   "outputs": [],
   "source": [
    "assert optimalClassifier.score(Xvalid, yVal) == logisticRegressionCVclassifier.score(Xvalid, yVal)"
   ]
  },
  {
   "cell_type": "markdown",
   "metadata": {},
   "source": [
    "If assert passed successfully then this means that our \"manual\" process above gives the same results as the Logistic Regression CV"
   ]
  },
  {
   "cell_type": "markdown",
   "metadata": {},
   "source": [
    "### ========== Question 1.16 ==========\n",
    "Now, we want to validate the importance of various features for classification. For this purpose, we will use a [`RandomForestClassifier`](http://scikit-learn.org/0.17/modules/generated/sklearn.ensemble.RandomForestClassifier.html) (you might want to refer to Lab_3 if you are unsure how we can estimate feature importances with decision tree and random forest models).\n",
    "\n",
    "Initialise a random forest classifier and fit the model by using training data only and 500 trees (i.e. `n_estimators`). Set the `RandomState` equal to 31 to ensure reproducible results. Report the accuracy score on both the training and validation sets."
   ]
  },
  {
   "cell_type": "code",
   "execution_count": 121,
   "metadata": {
    "collapsed": false
   },
   "outputs": [],
   "source": [
    "# Your code goes here\n",
    "randomForestClassifier = RandomForestClassifier(\n",
    "    n_estimators=500,\n",
    "    random_state=31,\n",
    "    criterion='entropy'\n",
    ")"
   ]
  },
  {
   "cell_type": "code",
   "execution_count": 122,
   "metadata": {
    "collapsed": false
   },
   "outputs": [
    {
     "data": {
      "text/plain": [
       "RandomForestClassifier(bootstrap=True, class_weight=None, criterion='entropy',\n",
       "            max_depth=None, max_features='auto', max_leaf_nodes=None,\n",
       "            min_impurity_split=1e-07, min_samples_leaf=1,\n",
       "            min_samples_split=2, min_weight_fraction_leaf=0.0,\n",
       "            n_estimators=500, n_jobs=1, oob_score=False, random_state=31,\n",
       "            verbose=0, warm_start=False)"
      ]
     },
     "execution_count": 122,
     "metadata": {},
     "output_type": "execute_result"
    }
   ],
   "source": [
    "randomForestClassifier.fit(Xtrain, yTr)"
   ]
  },
  {
   "cell_type": "code",
   "execution_count": 131,
   "metadata": {
    "collapsed": false
   },
   "outputs": [
    {
     "name": "stdout",
     "output_type": "stream",
     "text": [
      "training classification accuracy for the random forest classifier of full depth\n"
     ]
    },
    {
     "data": {
      "text/plain": [
       "1.0"
      ]
     },
     "execution_count": 131,
     "metadata": {},
     "output_type": "execute_result"
    }
   ],
   "source": [
    "print \"training classification accuracy for the random forest classifier of full depth\"\n",
    "randomForestClassifier.score(Xtrain, yTr)"
   ]
  },
  {
   "cell_type": "code",
   "execution_count": 132,
   "metadata": {
    "collapsed": false
   },
   "outputs": [
    {
     "name": "stdout",
     "output_type": "stream",
     "text": [
      "testing classification accuracy for the random forest classifier of full depth\n"
     ]
    },
    {
     "data": {
      "text/plain": [
       "0.69811320754716977"
      ]
     },
     "execution_count": 132,
     "metadata": {},
     "output_type": "execute_result"
    }
   ],
   "source": [
    "print \"testing classification accuracy for the random forest classifier of full depth\"\n",
    "randomForestClassifier.score(Xvalid, yVal)"
   ]
  },
  {
   "cell_type": "markdown",
   "metadata": {},
   "source": [
    "We notice that the random forest classifier has a little bit better classification accuracy at 70%"
   ]
  },
  {
   "cell_type": "code",
   "execution_count": 124,
   "metadata": {
    "collapsed": false
   },
   "outputs": [],
   "source": [
    "def getFeatureImportances(decisionTree, columnNames):\n",
    "    featureImportances = dict()\n",
    "\n",
    "    arrayFeatureImportances = decisionTree.feature_importances_\n",
    "\n",
    "    counter = 0\n",
    "    for col in columnNames:\n",
    "        featureImportances[col] = arrayFeatureImportances[counter]\n",
    "        counter += 1\n",
    "\n",
    "    return featureImportances"
   ]
  },
  {
   "cell_type": "code",
   "execution_count": 125,
   "metadata": {
    "collapsed": false
   },
   "outputs": [],
   "source": [
    "featureImportances = getFeatureImportances(randomForestClassifier, inputFeatures)"
   ]
  },
  {
   "cell_type": "code",
   "execution_count": 126,
   "metadata": {
    "collapsed": false
   },
   "outputs": [
    {
     "name": "stdout",
     "output_type": "stream",
     "text": [
      "most important features to least important features list:\n"
     ]
    },
    {
     "data": {
      "text/plain": [
       "['dim21',\n",
       " 'dim479',\n",
       " 'dim51',\n",
       " 'dim360',\n",
       " 'dim283',\n",
       " 'dim76',\n",
       " 'dim4',\n",
       " 'dim461',\n",
       " 'dim274',\n",
       " 'dim330',\n",
       " 'dim263',\n",
       " 'dim343',\n",
       " 'dim348',\n",
       " 'dim217',\n",
       " 'dim222',\n",
       " 'dim347',\n",
       " 'dim74',\n",
       " 'dim356',\n",
       " 'dim398',\n",
       " 'dim423',\n",
       " 'dim500',\n",
       " 'dim73',\n",
       " 'dim485',\n",
       " 'dim214',\n",
       " 'dim326',\n",
       " 'dim254',\n",
       " 'dim483',\n",
       " 'dim92',\n",
       " 'dim25',\n",
       " 'dim322',\n",
       " 'dim329',\n",
       " 'dim427',\n",
       " 'dim17',\n",
       " 'dim288',\n",
       " 'dim90',\n",
       " 'dim440',\n",
       " 'dim48',\n",
       " 'dim206',\n",
       " 'dim171',\n",
       " 'dim154',\n",
       " 'dim134',\n",
       " 'dim54',\n",
       " 'dim96',\n",
       " 'dim315',\n",
       " 'dim85',\n",
       " 'dim312',\n",
       " 'dim15',\n",
       " 'dim35',\n",
       " 'dim188',\n",
       " 'dim442',\n",
       " 'dim294',\n",
       " 'dim289',\n",
       " 'dim445',\n",
       " 'dim160',\n",
       " 'dim201',\n",
       " 'dim153',\n",
       " 'dim197',\n",
       " 'dim358',\n",
       " 'dim344',\n",
       " 'dim257',\n",
       " 'dim299',\n",
       " 'dim77',\n",
       " 'dim207',\n",
       " 'dim114',\n",
       " 'dim430',\n",
       " 'dim353',\n",
       " 'dim161',\n",
       " 'dim402',\n",
       " 'dim495',\n",
       " 'dim142',\n",
       " 'dim465',\n",
       " 'dim420',\n",
       " 'dim135',\n",
       " 'dim498',\n",
       " 'dim363',\n",
       " 'dim118',\n",
       " 'dim81',\n",
       " 'dim71',\n",
       " 'dim272',\n",
       " 'dim375',\n",
       " 'dim59',\n",
       " 'dim79',\n",
       " 'dim53',\n",
       " 'dim271',\n",
       " 'dim219',\n",
       " 'dim357',\n",
       " 'dim277',\n",
       " 'dim444',\n",
       " 'dim99',\n",
       " 'dim170',\n",
       " 'dim282',\n",
       " 'dim27',\n",
       " 'dim52',\n",
       " 'dim203',\n",
       " 'dim155',\n",
       " 'dim3',\n",
       " 'dim56',\n",
       " 'dim471',\n",
       " 'dim150',\n",
       " 'dim341',\n",
       " 'dim190',\n",
       " 'dim80',\n",
       " 'dim137',\n",
       " 'dim221',\n",
       " 'dim368',\n",
       " 'dim65',\n",
       " 'dim415',\n",
       " 'dim349',\n",
       " 'dim264',\n",
       " 'dim321',\n",
       " 'dim20',\n",
       " 'dim38',\n",
       " 'dim122',\n",
       " 'dim229',\n",
       " 'dim457',\n",
       " 'dim377',\n",
       " 'dim244',\n",
       " 'dim487',\n",
       " 'dim372',\n",
       " 'dim173',\n",
       " 'dim306',\n",
       " 'dim366',\n",
       " 'dim362',\n",
       " 'dim387',\n",
       " 'dim412',\n",
       " 'dim401',\n",
       " 'dim157',\n",
       " 'dim396',\n",
       " 'dim11',\n",
       " 'dim167',\n",
       " 'dim198',\n",
       " 'dim452',\n",
       " 'dim216',\n",
       " 'dim49',\n",
       " 'dim488',\n",
       " 'dim105',\n",
       " 'dim307',\n",
       " 'dim209',\n",
       " 'dim297',\n",
       " 'dim453',\n",
       " 'dim352',\n",
       " 'dim463',\n",
       " 'dim370',\n",
       " 'dim310',\n",
       " 'dim407',\n",
       " 'dim19',\n",
       " 'dim323',\n",
       " 'dim112',\n",
       " 'dim208',\n",
       " 'dim417',\n",
       " 'dim164',\n",
       " 'dim459',\n",
       " 'dim199',\n",
       " 'dim5',\n",
       " 'dim482',\n",
       " 'dim389',\n",
       " 'dim279',\n",
       " 'dim94',\n",
       " 'dim286',\n",
       " 'dim1',\n",
       " 'dim152',\n",
       " 'dim316',\n",
       " 'dim416',\n",
       " 'dim418',\n",
       " 'dim265',\n",
       " 'dim403',\n",
       " 'dim364',\n",
       " 'dim41',\n",
       " 'dim34',\n",
       " 'dim127',\n",
       " 'dim175',\n",
       " 'dim436',\n",
       " 'dim424',\n",
       " 'dim109',\n",
       " 'dim391',\n",
       " 'dim205',\n",
       " 'dim62',\n",
       " 'dim311',\n",
       " 'dim236',\n",
       " 'dim32',\n",
       " 'dim204',\n",
       " 'dim132',\n",
       " 'dim280',\n",
       " 'dim82',\n",
       " 'dim458',\n",
       " 'dim379',\n",
       " 'dim410',\n",
       " 'dim486',\n",
       " 'dim58',\n",
       " 'dim429',\n",
       " 'dim64',\n",
       " 'dim84',\n",
       " 'dim361',\n",
       " 'dim145',\n",
       " 'dim333',\n",
       " 'dim83',\n",
       " 'dim421',\n",
       " 'dim246',\n",
       " 'dim497',\n",
       " 'dim313',\n",
       " 'dim256',\n",
       " 'dim466',\n",
       " 'dim100',\n",
       " 'dim131',\n",
       " 'dim354',\n",
       " 'dim450',\n",
       " 'dim177',\n",
       " 'dim337',\n",
       " 'dim238',\n",
       " 'dim89',\n",
       " 'dim10',\n",
       " 'dim434',\n",
       " 'dim470',\n",
       " 'dim462',\n",
       " 'dim9',\n",
       " 'dim302',\n",
       " 'dim172',\n",
       " 'dim251',\n",
       " 'dim273',\n",
       " 'dim241',\n",
       " 'dim381',\n",
       " 'dim388',\n",
       " 'dim111',\n",
       " 'dim477',\n",
       " 'dim169',\n",
       " 'dim182',\n",
       " 'dim46',\n",
       " 'dim318',\n",
       " 'dim42',\n",
       " 'dim384',\n",
       " 'dim287',\n",
       " 'dim324',\n",
       " 'dim61',\n",
       " 'dim359',\n",
       " 'dim30',\n",
       " 'dim494',\n",
       " 'dim490',\n",
       " 'dim351',\n",
       " 'dim185',\n",
       " 'dim489',\n",
       " 'dim136',\n",
       " 'dim493',\n",
       " 'dim106',\n",
       " 'dim50',\n",
       " 'dim380',\n",
       " 'dim433',\n",
       " 'dim414',\n",
       " 'dim116',\n",
       " 'dim166',\n",
       " 'dim446',\n",
       " 'dim178',\n",
       " 'dim469',\n",
       " 'dim309',\n",
       " 'dim365',\n",
       " 'dim162',\n",
       " 'dim484',\n",
       " 'dim192',\n",
       " 'dim245',\n",
       " 'dim186',\n",
       " 'dim126',\n",
       " 'dim425',\n",
       " 'dim239',\n",
       " 'dim147',\n",
       " 'dim467',\n",
       " 'dim179',\n",
       " 'dim158',\n",
       " 'dim220',\n",
       " 'dim394',\n",
       " 'dim404',\n",
       " 'dim393',\n",
       " 'dim108',\n",
       " 'dim138',\n",
       " 'dim119',\n",
       " 'dim129',\n",
       " 'dim260',\n",
       " 'dim428',\n",
       " 'dim242',\n",
       " 'dim232',\n",
       " 'dim213',\n",
       " 'dim159',\n",
       " 'dim224',\n",
       " 'dim227',\n",
       " 'dim98',\n",
       " 'dim314',\n",
       " 'dim28',\n",
       " 'dim392',\n",
       " 'dim36',\n",
       " 'dim101',\n",
       " 'dim212',\n",
       " 'dim18',\n",
       " 'dim44',\n",
       " 'dim234',\n",
       " 'dim139',\n",
       " 'dim133',\n",
       " 'dim184',\n",
       " 'dim146',\n",
       " 'dim473',\n",
       " 'dim468',\n",
       " 'dim320',\n",
       " 'dim233',\n",
       " 'dim308',\n",
       " 'dim12',\n",
       " 'dim284',\n",
       " 'dim474',\n",
       " 'dim248',\n",
       " 'dim75',\n",
       " 'dim355',\n",
       " 'dim496',\n",
       " 'dim231',\n",
       " 'dim268',\n",
       " 'dim499',\n",
       " 'dim305',\n",
       " 'dim88',\n",
       " 'dim258',\n",
       " 'dim481',\n",
       " 'dim426',\n",
       " 'dim443',\n",
       " 'dim55',\n",
       " 'dim447',\n",
       " 'dim87',\n",
       " 'dim183',\n",
       " 'dim298',\n",
       " 'dim382',\n",
       " 'dim301',\n",
       " 'dim451',\n",
       " 'dim31',\n",
       " 'dim123',\n",
       " 'dim448',\n",
       " 'dim7',\n",
       " 'dim413',\n",
       " 'dim210',\n",
       " 'dim455',\n",
       " 'dim346',\n",
       " 'dim247',\n",
       " 'dim163',\n",
       " 'dim328',\n",
       " 'dim411',\n",
       " 'dim478',\n",
       " 'dim86',\n",
       " 'dim332',\n",
       " 'dim57',\n",
       " 'dim228',\n",
       " 'dim278',\n",
       " 'dim437',\n",
       " 'dim115',\n",
       " 'dim33',\n",
       " 'dim165',\n",
       " 'dim68',\n",
       " 'dim338',\n",
       " 'dim300',\n",
       " 'dim189',\n",
       " 'dim292',\n",
       " 'dim441',\n",
       " 'dim168',\n",
       " 'dim230',\n",
       " 'dim336',\n",
       " 'dim144',\n",
       " 'dim67',\n",
       " 'dim385',\n",
       " 'dim295',\n",
       " 'dim121',\n",
       " 'dim276',\n",
       " 'dim78',\n",
       " 'dim191',\n",
       " 'dim317',\n",
       " 'dim117',\n",
       " 'dim432',\n",
       " 'dim226',\n",
       " 'dim187',\n",
       " 'dim371',\n",
       " 'dim255',\n",
       " 'dim369',\n",
       " 'dim14',\n",
       " 'dim290',\n",
       " 'dim24',\n",
       " 'dim22',\n",
       " 'dim120',\n",
       " 'dim200',\n",
       " 'dim406',\n",
       " 'dim47',\n",
       " 'dim174',\n",
       " 'dim235',\n",
       " 'dim408',\n",
       " 'dim102',\n",
       " 'dim211',\n",
       " 'dim296',\n",
       " 'dim454',\n",
       " 'dim342',\n",
       " 'dim243',\n",
       " 'dim250',\n",
       " 'dim128',\n",
       " 'dim181',\n",
       " 'dim491',\n",
       " 'dim113',\n",
       " 'dim249',\n",
       " 'dim103',\n",
       " 'dim6',\n",
       " 'dim195',\n",
       " 'dim43',\n",
       " 'dim331',\n",
       " 'dim29',\n",
       " 'dim37',\n",
       " 'dim252',\n",
       " 'dim319',\n",
       " 'dim237',\n",
       " 'dim40',\n",
       " 'dim45',\n",
       " 'dim259',\n",
       " 'dim124',\n",
       " 'dim334',\n",
       " 'dim475',\n",
       " 'dim304',\n",
       " 'dim409',\n",
       " 'dim39',\n",
       " 'dim419',\n",
       " 'dim95',\n",
       " 'dim218',\n",
       " 'dim399',\n",
       " 'dim266',\n",
       " 'dim422',\n",
       " 'dim431',\n",
       " 'dim367',\n",
       " 'dim327',\n",
       " 'dim325',\n",
       " 'dim225',\n",
       " 'dim281',\n",
       " 'dim476',\n",
       " 'dim8',\n",
       " 'dim335',\n",
       " 'dim194',\n",
       " 'dim107',\n",
       " 'dim439',\n",
       " 'dim97',\n",
       " 'dim93',\n",
       " 'dim378',\n",
       " 'dim345',\n",
       " 'dim26',\n",
       " 'dim110',\n",
       " 'dim130',\n",
       " 'dim340',\n",
       " 'dim16',\n",
       " 'dim69',\n",
       " 'dim373',\n",
       " 'dim395',\n",
       " 'dim180',\n",
       " 'dim269',\n",
       " 'dim435',\n",
       " 'dim141',\n",
       " 'dim148',\n",
       " 'dim202',\n",
       " 'dim405',\n",
       " 'dim350',\n",
       " 'dim70',\n",
       " 'dim275',\n",
       " 'dim339',\n",
       " 'dim267',\n",
       " 'dim66',\n",
       " 'dim151',\n",
       " 'dim196',\n",
       " 'dim261',\n",
       " 'dim285',\n",
       " 'dim449',\n",
       " 'dim149',\n",
       " 'dim376',\n",
       " 'dim386',\n",
       " 'dim460',\n",
       " 'dim383',\n",
       " 'dim262',\n",
       " 'dim143',\n",
       " 'dim215',\n",
       " 'dim270',\n",
       " 'dim240',\n",
       " 'dim397',\n",
       " 'dim480',\n",
       " 'dim303',\n",
       " 'dim176',\n",
       " 'dim456',\n",
       " 'dim125',\n",
       " 'dim438',\n",
       " 'dim400',\n",
       " 'dim472',\n",
       " 'dim156',\n",
       " 'dim60',\n",
       " 'dim464',\n",
       " 'dim291',\n",
       " 'dim13',\n",
       " 'dim390',\n",
       " 'dim23',\n",
       " 'dim193',\n",
       " 'dim2',\n",
       " 'dim223',\n",
       " 'dim253',\n",
       " 'dim104',\n",
       " 'dim492',\n",
       " 'dim63',\n",
       " 'dim374',\n",
       " 'dim293',\n",
       " 'dim140',\n",
       " 'dim91',\n",
       " 'dim72']"
      ]
     },
     "execution_count": 126,
     "metadata": {},
     "output_type": "execute_result"
    }
   ],
   "source": [
    "print \"most important features to least important features list:\"\n",
    "sorted(featureImportances, reverse = True, key=featureImportances.get)"
   ]
  },
  {
   "cell_type": "markdown",
   "metadata": {},
   "source": [
    "We will try and prune the try to see if we can get a better performance"
   ]
  },
  {
   "cell_type": "code",
   "execution_count": 128,
   "metadata": {
    "collapsed": true
   },
   "outputs": [],
   "source": [
    "def trainAndScoreRandomForestClassifier(trainingInputs, trainingTargets,\n",
    "                                        testingInputs, testingTargets,\n",
    "                                        maxDepth=None,\n",
    "                                        maxFeatures = 'auto',\n",
    "                                        randomSeed=None,\n",
    "                                        returnClassifier = False,\n",
    "                                        n_estimators=500):    \n",
    "    classifier = RandomForestClassifier(n_estimators=n_estimators,\n",
    "                                  criterion='entropy',\n",
    "                                  random_state = randomSeed,\n",
    "                                  max_depth = maxDepth,\n",
    "                                  max_features = maxFeatures).fit(trainingInputs, trainingTargets)\n",
    "        \n",
    "    curScore = classifier.score(testingInputs, testingTargets)\n",
    "        \n",
    "    return (curScore, classifier) if returnClassifier else curScore"
   ]
  },
  {
   "cell_type": "code",
   "execution_count": 130,
   "metadata": {
    "collapsed": false
   },
   "outputs": [
    {
     "data": {
      "text/plain": [
       "[0.62982929020664868,\n",
       " 0.65678346810422283,\n",
       " 0.66936208445642409,\n",
       " 0.67205750224618144,\n",
       " 0.67834681042228206,\n",
       " 0.68194070080862534,\n",
       " 0.67834681042228206,\n",
       " 0.6801437556154537,\n",
       " 0.69182389937106914,\n",
       " 0.69991015274034141,\n",
       " 0.69002695417789761,\n",
       " 0.69901168014375559,\n",
       " 0.70440251572327039,\n",
       " 0.70080862533692723,\n",
       " 0.69811320754716977,\n",
       " 0.69631626235399824,\n",
       " 0.69811320754716977,\n",
       " 0.69182389937106914,\n",
       " 0.69631626235399824,\n",
       " 0.69811320754716977,\n",
       " 0.69541778975741242,\n",
       " 0.69721473495058406,\n",
       " 0.69721473495058406,\n",
       " 0.69811320754716977,\n",
       " 0.69811320754716977,\n",
       " 0.69811320754716977,\n",
       " 0.69811320754716977,\n",
       " 0.69811320754716977,\n",
       " 0.69811320754716977]"
      ]
     },
     "execution_count": 130,
     "metadata": {},
     "output_type": "execute_result"
    }
   ],
   "source": [
    "maxDepths = range(1, 30)\n",
    "\n",
    "scores = []\n",
    "\n",
    "for maxDepth in maxDepths:\n",
    "    scores.append(\n",
    "        trainAndScoreRandomForestClassifier(\n",
    "            trainingInputs=Xtrain,\n",
    "            trainingTargets=yTr,\n",
    "            testingInputs=Xvalid,\n",
    "            testingTargets=yVal,\n",
    "            randomSeed = 31,\n",
    "            maxDepth = maxDepth\n",
    "        )\n",
    "    )\n",
    "\n",
    "scores"
   ]
  },
  {
   "cell_type": "code",
   "execution_count": 134,
   "metadata": {
    "collapsed": false
   },
   "outputs": [
    {
     "data": {
      "text/plain": [
       "29"
      ]
     },
     "execution_count": 134,
     "metadata": {},
     "output_type": "execute_result"
    }
   ],
   "source": [
    "len(scores)"
   ]
  },
  {
   "cell_type": "code",
   "execution_count": 135,
   "metadata": {
    "collapsed": false
   },
   "outputs": [
    {
     "data": {
      "text/plain": [
       "13"
      ]
     },
     "execution_count": 135,
     "metadata": {},
     "output_type": "execute_result"
    }
   ],
   "source": [
    "bestDepth = np.argmax(scores) + 1 #+1 because we used the pruning of the tree at depths 1, 2, 3, .. 29\n",
    "\n",
    "bestDepth"
   ]
  },
  {
   "cell_type": "code",
   "execution_count": 136,
   "metadata": {
    "collapsed": true
   },
   "outputs": [],
   "source": [
    "bestScore, bestRandomForestClassifier = trainAndScoreRandomForestClassifier(\n",
    "            trainingInputs=Xtrain,\n",
    "            trainingTargets=yTr,\n",
    "            testingInputs=Xvalid,\n",
    "            testingTargets=yVal,\n",
    "            randomSeed = 31,\n",
    "            maxDepth = bestDepth,\n",
    "            returnClassifier = True\n",
    "        )"
   ]
  },
  {
   "cell_type": "code",
   "execution_count": 138,
   "metadata": {
    "collapsed": false
   },
   "outputs": [
    {
     "name": "stdout",
     "output_type": "stream",
     "text": [
      "training classification accuracy of best random forest classifier\n",
      "1.0\n",
      "\n",
      "testing classification accuracy of best random forest classifier\n"
     ]
    },
    {
     "data": {
      "text/plain": [
       "0.70440251572327039"
      ]
     },
     "execution_count": 138,
     "metadata": {},
     "output_type": "execute_result"
    }
   ],
   "source": [
    "print \"training classification accuracy of best random forest classifier\"\n",
    "print bestRandomForestClassifier.score(Xtrain, yTr)\n",
    "print\n",
    "print \"testing classification accuracy of best random forest classifier\"\n",
    "bestScore"
   ]
  },
  {
   "cell_type": "markdown",
   "metadata": {},
   "source": [
    "### ========== Question 1.17 ==========\n",
    "Comment on the results above. Do you find the discrepancy between training and validation accuracies surprising?"
   ]
  },
  {
   "cell_type": "markdown",
   "metadata": {},
   "source": [
    "*Your answer goes here*\n",
    "\n",
    "The way the structure of the random forest tree is created, by the data themselves, the expectation is to always have a path that belongs to a training instance with a full depth tree. Therefore we expect to always have perfect training accuracy of 100% of a random forest tree no matter how peculiar is our distribution.\n",
    "\n",
    "Of course on unseen data the performance of a full random forest tree is not spectacular at all. Actually it is the same as the logistic regression classifier with optimal C.\n",
    "\n",
    "Using a range of various depths to try and find a better random forest classifier we see that even with the best pruning we are not able to improve accuracy of more than 1%"
   ]
  },
  {
   "cell_type": "markdown",
   "metadata": {},
   "source": [
    "### ========== Question 1.18 ==========\n",
    "By using the random forest model from the previous question order the features by descending importance and display the names of the 50 most important features."
   ]
  },
  {
   "cell_type": "code",
   "execution_count": 139,
   "metadata": {
    "collapsed": true
   },
   "outputs": [],
   "source": [
    "featureImportances = getFeatureImportances(bestRandomForestClassifier, inputFeatures)\n",
    "sortedFeatureImportances = sorted(featureImportances, reverse = True, key=featureImportances.get)"
   ]
  },
  {
   "cell_type": "code",
   "execution_count": 140,
   "metadata": {
    "collapsed": false
   },
   "outputs": [
    {
     "name": "stdout",
     "output_type": "stream",
     "text": [
      "50 most important features to least important features list:\n"
     ]
    },
    {
     "data": {
      "text/plain": [
       "['dim21',\n",
       " 'dim51',\n",
       " 'dim360',\n",
       " 'dim283',\n",
       " 'dim479',\n",
       " 'dim76',\n",
       " 'dim4',\n",
       " 'dim222',\n",
       " 'dim461',\n",
       " 'dim330',\n",
       " 'dim217',\n",
       " 'dim343',\n",
       " 'dim423',\n",
       " 'dim274',\n",
       " 'dim347',\n",
       " 'dim263',\n",
       " 'dim356',\n",
       " 'dim326',\n",
       " 'dim348',\n",
       " 'dim398',\n",
       " 'dim214',\n",
       " 'dim485',\n",
       " 'dim254',\n",
       " 'dim74',\n",
       " 'dim206',\n",
       " 'dim483',\n",
       " 'dim427',\n",
       " 'dim73',\n",
       " 'dim92',\n",
       " 'dim322',\n",
       " 'dim25',\n",
       " 'dim17',\n",
       " 'dim90',\n",
       " 'dim134',\n",
       " 'dim85',\n",
       " 'dim54',\n",
       " 'dim171',\n",
       " 'dim96',\n",
       " 'dim440',\n",
       " 'dim500',\n",
       " 'dim153',\n",
       " 'dim35',\n",
       " 'dim154',\n",
       " 'dim329',\n",
       " 'dim48',\n",
       " 'dim289',\n",
       " 'dim77',\n",
       " 'dim315',\n",
       " 'dim312',\n",
       " 'dim188']"
      ]
     },
     "execution_count": 140,
     "metadata": {},
     "output_type": "execute_result"
    }
   ],
   "source": [
    "# Your code goes here\n",
    "print \"50 most important features to least important features list:\"\n",
    "sortedFeatureImportances[:50]"
   ]
  },
  {
   "cell_type": "markdown",
   "metadata": {},
   "source": [
    "### ========== Question 1.19 ==========\n",
    "Next, we would like to test out the performance of support vector classification and experiment with different kernels. \n",
    "By using training data only and default parameter settings, train three support vector classifiers with the following kernels: linear, radial basis function, and polynomial. Report the classification accuracy of each of the three classifiers on both the training and validation sets."
   ]
  },
  {
   "cell_type": "code",
   "execution_count": 142,
   "metadata": {
    "collapsed": false
   },
   "outputs": [],
   "source": [
    "# Your code goes here\n",
    "linearSVC = LinearSVC()"
   ]
  },
  {
   "cell_type": "code",
   "execution_count": 143,
   "metadata": {
    "collapsed": false
   },
   "outputs": [
    {
     "data": {
      "text/plain": [
       "LinearSVC(C=1.0, class_weight=None, dual=True, fit_intercept=True,\n",
       "     intercept_scaling=1, loss='squared_hinge', max_iter=1000,\n",
       "     multi_class='ovr', penalty='l2', random_state=None, tol=0.0001,\n",
       "     verbose=0)"
      ]
     },
     "execution_count": 143,
     "metadata": {},
     "output_type": "execute_result"
    }
   ],
   "source": [
    "linearSVC.fit(Xtrain, yTr)"
   ]
  },
  {
   "cell_type": "code",
   "execution_count": 144,
   "metadata": {
    "collapsed": false
   },
   "outputs": [
    {
     "name": "stdout",
     "output_type": "stream",
     "text": [
      "training classification accuracy of linear support vector classifier\n"
     ]
    },
    {
     "data": {
      "text/plain": [
       "0.79503105590062106"
      ]
     },
     "execution_count": 144,
     "metadata": {},
     "output_type": "execute_result"
    }
   ],
   "source": [
    "print \"training classification accuracy of linear support vector classifier\"\n",
    "linearSVC.score(Xtrain, yTr)"
   ]
  },
  {
   "cell_type": "code",
   "execution_count": 145,
   "metadata": {
    "collapsed": false
   },
   "outputs": [
    {
     "name": "stdout",
     "output_type": "stream",
     "text": [
      "testing classification accuracy of linear support vector classifier\n"
     ]
    },
    {
     "data": {
      "text/plain": [
       "0.64869721473495057"
      ]
     },
     "execution_count": 145,
     "metadata": {},
     "output_type": "execute_result"
    }
   ],
   "source": [
    "print \"testing classification accuracy of linear support vector classifier\"\n",
    "linearSVC.score(Xvalid, yVal)"
   ]
  },
  {
   "cell_type": "markdown",
   "metadata": {},
   "source": [
    "The classification accuracy of the Linear Support Vector Classifier is not something awesome in comparison to previous classifiers. We need to explore how could we transform the data with radial basis function or a polynomial"
   ]
  },
  {
   "cell_type": "code",
   "execution_count": 146,
   "metadata": {
    "collapsed": true
   },
   "outputs": [],
   "source": [
    "rbfSVC = SVC(kernel='rbf')"
   ]
  },
  {
   "cell_type": "code",
   "execution_count": 147,
   "metadata": {
    "collapsed": false
   },
   "outputs": [
    {
     "data": {
      "text/plain": [
       "SVC(C=1.0, cache_size=200, class_weight=None, coef0=0.0,\n",
       "  decision_function_shape=None, degree=3, gamma='auto', kernel='rbf',\n",
       "  max_iter=-1, probability=False, random_state=None, shrinking=True,\n",
       "  tol=0.001, verbose=False)"
      ]
     },
     "execution_count": 147,
     "metadata": {},
     "output_type": "execute_result"
    }
   ],
   "source": [
    "rbfSVC.fit(Xtrain, yTr)"
   ]
  },
  {
   "cell_type": "code",
   "execution_count": 148,
   "metadata": {
    "collapsed": false
   },
   "outputs": [
    {
     "name": "stdout",
     "output_type": "stream",
     "text": [
      "training classification accuracy for support vector classifier with RBF kernel\n"
     ]
    },
    {
     "data": {
      "text/plain": [
       "0.9106545628284759"
      ]
     },
     "execution_count": 148,
     "metadata": {},
     "output_type": "execute_result"
    }
   ],
   "source": [
    "print \"training classification accuracy for support vector classifier with RBF kernel\"\n",
    "rbfSVC.score(Xtrain, yTr)"
   ]
  },
  {
   "cell_type": "code",
   "execution_count": 149,
   "metadata": {
    "collapsed": false
   },
   "outputs": [
    {
     "name": "stdout",
     "output_type": "stream",
     "text": [
      "testing classification accuracy for support vector classifier with RBF kernel\n"
     ]
    },
    {
     "data": {
      "text/plain": [
       "0.72955974842767291"
      ]
     },
     "execution_count": 149,
     "metadata": {},
     "output_type": "execute_result"
    }
   ],
   "source": [
    "print \"testing classification accuracy for support vector classifier with RBF kernel\"\n",
    "rbfSVC.score(Xvalid, yVal)"
   ]
  },
  {
   "cell_type": "markdown",
   "metadata": {},
   "source": [
    "The transformation of the data using RBF has improved the classification accuracy"
   ]
  },
  {
   "cell_type": "code",
   "execution_count": 151,
   "metadata": {
    "collapsed": true
   },
   "outputs": [],
   "source": [
    "def scorePolySVC(degree=2):\n",
    "    polySVC = SVC(kernel='poly',degree=degree).fit(Xtrain, yTr)\n",
    "    return polySVC.score(Xtrain, yTr), polySVC.score(Xvalid, yVal)"
   ]
  },
  {
   "cell_type": "code",
   "execution_count": 153,
   "metadata": {
    "collapsed": false
   },
   "outputs": [],
   "source": [
    "polyScores = dict()\n",
    "\n",
    "for degree in range(2, 10):\n",
    "    polyScores[degree] = scorePolySVC(degree=degree)"
   ]
  },
  {
   "cell_type": "code",
   "execution_count": 155,
   "metadata": {
    "collapsed": false
   },
   "outputs": [
    {
     "data": {
      "text/plain": [
       "{2: (0.93979933110367897, 0.68553459119496851),\n",
       " 3: (0.99092212135690394, 0.70170709793351305),\n",
       " 4: (0.998088867654085, 0.67744833782569636),\n",
       " 5: (0.99426660296225511, 0.61275831087151844),\n",
       " 6: (0.97276636407071193, 0.56244384546271342),\n",
       " 7: (0.94266602962255142, 0.54627133872416889),\n",
       " 8: (0.96082178690874342, 0.54267744833782572),\n",
       " 9: (0.99378881987577639, 0.59478885893980238)}"
      ]
     },
     "execution_count": 155,
     "metadata": {},
     "output_type": "execute_result"
    }
   ],
   "source": [
    "polyScores"
   ]
  },
  {
   "cell_type": "code",
   "execution_count": 160,
   "metadata": {
    "collapsed": false
   },
   "outputs": [
    {
     "data": {
      "text/plain": [
       "3"
      ]
     },
     "execution_count": 160,
     "metadata": {},
     "output_type": "execute_result"
    }
   ],
   "source": [
    "polyValScores = [tupl[1] for tupl in polyScores.values()]\n",
    "bestPolyDegree = polyScores.keys()[np.argmax(polyValScores)]\n",
    "bestPolyDegree"
   ]
  },
  {
   "cell_type": "code",
   "execution_count": 161,
   "metadata": {
    "collapsed": false
   },
   "outputs": [],
   "source": [
    "bestPolySVC = SVC(kernel='poly',degree=bestPolyDegree).fit(Xtrain, yTr)"
   ]
  },
  {
   "cell_type": "code",
   "execution_count": 162,
   "metadata": {
    "collapsed": false
   },
   "outputs": [
    {
     "name": "stdout",
     "output_type": "stream",
     "text": [
      "training classification accuracy of SVC with kernel poly with degree 3 is\n"
     ]
    },
    {
     "data": {
      "text/plain": [
       "0.99092212135690394"
      ]
     },
     "execution_count": 162,
     "metadata": {},
     "output_type": "execute_result"
    }
   ],
   "source": [
    "print \"training classification accuracy of SVC with kernel poly with degree 3 is\"\n",
    "bestPolySVC.score(Xtrain, yTr)"
   ]
  },
  {
   "cell_type": "code",
   "execution_count": 164,
   "metadata": {
    "collapsed": false
   },
   "outputs": [
    {
     "name": "stdout",
     "output_type": "stream",
     "text": [
      "testing classification accuracy of SVC with kernel poly with degree 3 is\n"
     ]
    },
    {
     "data": {
      "text/plain": [
       "0.70170709793351305"
      ]
     },
     "execution_count": 164,
     "metadata": {},
     "output_type": "execute_result"
    }
   ],
   "source": [
    "print \"testing classification accuracy of SVC with kernel poly with degree 3 is\"\n",
    "bestPolySVC.score(Xvalid, yVal)"
   ]
  },
  {
   "cell_type": "markdown",
   "metadata": {},
   "source": [
    "The best validation accuracy of the SVC with kernel poly with optimal degree could not match the classification accuracy of SVC with RBF kernel"
   ]
  },
  {
   "cell_type": "markdown",
   "metadata": {},
   "source": [
    "### ========== Question 1.20 ==========\n",
    "At this point, we would like to get an idea of what kind of decision boundaries we can get with the three types of SVM kernels we introduced in the previous question. For visualisation, however, we can only make use of 2D input data. For this purpose, we select to use the 21st and 76th columns of our training features (*hint: remember that Python uses 0-based indexing*). \n",
    "\n",
    "Execute the cell below to define a useful function which we will be using to plot the decision boundaries *(it is also not a bad idea to try to understand what this functions does)*. \n",
    "\n",
    "Then train three distinct SVM classifiers by using the 2D input data mentioned above and default parameters:\n",
    "* a linear SVC\n",
    "* an RBF SVC \n",
    "* a polynomial SVC\n",
    "\n",
    "Finally, create a list containing the three classifiers you have just trained. Use this list as an input to the provided function along with the used training features and observe the outcome. You can use the additional `title` parameter to set the titles in the subplots. Comment on the results by using 1-2 sentences.\n",
    "\n",
    "*(Acknowledgement: this Question has been heavily based on [this example](http://scikit-learn.org/0.17/auto_examples/svm/plot_iris.html) from scikit-learn's documentation.)*"
   ]
  },
  {
   "cell_type": "code",
   "execution_count": 67,
   "metadata": {
    "collapsed": true
   },
   "outputs": [],
   "source": [
    "def show_svc_decision_boundaries(clfs, X, title=None):\n",
    "    \"\"\"Plots decision boundaries for classifiers with 2D inputs.\n",
    "    \n",
    "    Parameters\n",
    "    ----------\n",
    "    clf : list\n",
    "        Classifiers for which decision boundaries will be displayed.\n",
    "    X : array\n",
    "        Input features used to train the classifiers.\n",
    "    title : list, optional\n",
    "        Titles for classifiers.\n",
    "    \n",
    "    \"\"\"\n",
    "    \n",
    "    assert X.shape[1] == 2 # Input should be 2D\n",
    "    if title is not None:\n",
    "        assert len(clfs) == len(title)\n",
    "    \n",
    "    h = .04 # step size in the mesh\n",
    "    x_min, x_max = X[:, 0].min() - 1, X[:, 0].max() + 1\n",
    "    y_min, y_max = X[:, 1].min() - 1, X[:, 1].max() + 1\n",
    "    xx, yy = np.meshgrid(np.arange(x_min, x_max, h),\n",
    "                         np.arange(y_min, y_max, h))\n",
    "    plt.figure(figsize=(15,5))\n",
    "    for i, clf in enumerate(clfs):\n",
    "        plt.subplot(1, len(clfs), i + 1)\n",
    "        plt.subplots_adjust(wspace=0.4, hspace=0.4)\n",
    "        Z = clf.predict(np.c_[xx.ravel(), yy.ravel()])\n",
    "        Z = Z.reshape(xx.shape)\n",
    "        plt.contourf(xx, yy, Z, cmap=plt.cm.Paired, alpha=0.8)\n",
    "        # Training points\n",
    "        plt.scatter(X[:, 0], X[:, 1], c=y_tr, cmap=plt.cm.Paired)\n",
    "        plt.xlabel('Feature 1')\n",
    "        plt.ylabel('Feature 2')\n",
    "        plt.xlim(xx.min(), xx.max())\n",
    "        plt.ylim(yy.min(), yy.max())\n",
    "        plt.xticks(())\n",
    "        plt.yticks(())\n",
    "        if title is not None:\n",
    "            plt.title(title[i])"
   ]
  },
  {
   "cell_type": "code",
   "execution_count": 68,
   "metadata": {
    "collapsed": false
   },
   "outputs": [],
   "source": [
    "# Your code goes here\n"
   ]
  },
  {
   "cell_type": "markdown",
   "metadata": {},
   "source": [
    "*Your answer goes here*\n",
    "\n"
   ]
  },
  {
   "cell_type": "markdown",
   "metadata": {},
   "source": [
    "### ========== Question 1.21 ==========\n",
    "So far we have used default parameters for training the SVM classifiers. Now we want to tune the parameters by using cross-validation. \n",
    "\n",
    "By using the `K-fold` iterator from Question 1.11 and training data only, estimate the classification accuracy of an SVM classifier with RBF kernel, while you vary the penalty parameter `C` in a logarithmic range `np.logspace(-2, 3, 10)`. Set the kernel coefficient parameter `gamma` to `auto` for this question. \n",
    "\n",
    "Plot the mean cross-validated classification accuracy against the regularisation parameter `C` by using a log-scale for the x-axis. Display the highest obtained mean accuracy score and the value of `C` which yielded it. Label axes appropriately. \n",
    "\n",
    "Finally, train a classifier by using the optimal value for this parameter (without using cross-validation at this stage) and report the classification accuracy on the training and validation sets. "
   ]
  },
  {
   "cell_type": "code",
   "execution_count": 69,
   "metadata": {
    "collapsed": false
   },
   "outputs": [],
   "source": [
    "# Your code goes here\n"
   ]
  },
  {
   "cell_type": "markdown",
   "metadata": {},
   "source": [
    "### ========== Question 1.22 ==========\n",
    "Now we turn to the kernel coefficient `gamma` parameter. By using the same procedure as in the previous question, estimate the classification accuracy of an SVM classifier with RBF kernel while you vary the `gamma` parameter in a logarithmic range `logspace(-5, 0, 10)`. Fix the penalty parameter `C=1.0`.\n",
    "\n",
    "Plot the mean cross-validated classification accuracy against the parameter `gamma` by using a log-scale for the x-axis. Display the highest obtained mean accuracy score and the value of `gamma` which yielded it.  Label axes appropriately.\n",
    "\n",
    "Finally, train a classifier by using the optimal value for this parameter (without using cross-validation at this stage) and report the classification accuracy on the training and validation sets. "
   ]
  },
  {
   "cell_type": "code",
   "execution_count": 70,
   "metadata": {
    "collapsed": false
   },
   "outputs": [],
   "source": [
    "# Your code goes here\n"
   ]
  },
  {
   "cell_type": "markdown",
   "metadata": {},
   "source": [
    "### ========== Question 1.23 ==========\n",
    "Now we wish to tune both the `C` and `gamma` parameters simultaneously. To save computational time, we will now constrain the parameter search space. Define a `4 X 4` grid for the two parameters, as follows:\n",
    "* `C`: `np.logspace(-2, 1, 4)`\n",
    "* `gamma`: `np.logspace(-4, -1, 4)`\n",
    "\n",
    "Estimate the mean cross-validated classification accuracy by using training data only and all possible configurations for the two parameters. \n",
    "\n",
    "Use a [heatmap](https://seaborn.github.io/generated/seaborn.heatmap.html?highlight=heatmap#seaborn.heatmap) to visualise the mean cross-validated classification accuracy for all `C`-`gamma` pairs. Label axes appropriately and display the values for `C` and `gamma` for the best performing configuration. \n",
    "\n",
    "Finally, by using the optimal configuration, train a classifier (without using cross-validation) and report the classification accuracy on the training and validation sets."
   ]
  },
  {
   "cell_type": "code",
   "execution_count": 71,
   "metadata": {
    "collapsed": false
   },
   "outputs": [],
   "source": [
    "# Your code goes here \n"
   ]
  },
  {
   "cell_type": "markdown",
   "metadata": {},
   "source": [
    "### ========== Question 1.24 ==========\n",
    "Is the classification accuracy on the validation set higher than in previous questions (1.22-1.23)? If not, can you explain why? Can you think of a way of further improving the performance of the classifier? You don't need to implement your suggestion at this stage. Would there be any associated problems with your suggested approach? "
   ]
  },
  {
   "cell_type": "markdown",
   "metadata": {},
   "source": [
    "*Your answer goes here*\n",
    "\n"
   ]
  },
  {
   "cell_type": "markdown",
   "metadata": {},
   "source": [
    "### ========== Question 1.25 ==========\n",
    "Now we want to evaluate the performance of an SVM classifier with polynomial kernel. Once again, we will tune the `degree` parameter by using cross-validation (similarly to what we did in Questions 1.21 and 1.22).\n",
    "\n",
    "By using the `K-fold` iterator from Question 1.11 and training data only, estimate the classification accuracy of polynomial SVM classifier, while you vary the `degree` parameter in the range `np.arange(1,8)`. \n",
    "\n",
    "Plot the mean cross-validated classification accuracy against the polynomial degree. Display the highest obtained mean accuracy score and the value of the `degree` parameter which yielded it. Label axes appropriately. \n",
    "\n",
    "Finally, train a classifier by using the optimal value for this parameter (without using cross-validation at this stage) and report the classification accuracy on the training and validation sets. "
   ]
  },
  {
   "cell_type": "code",
   "execution_count": 72,
   "metadata": {
    "collapsed": false
   },
   "outputs": [],
   "source": [
    "# Your code goes here\n"
   ]
  },
  {
   "cell_type": "markdown",
   "metadata": {},
   "source": [
    "### ========== Question 1.26 ==========\n",
    "\n",
    "You might have noticted that so far, we have used cross-validation for optimising the various tuning parameters (e.g. regularisation parameter in logistic regression, SVM kernel parameters) rather than hold-out validation, although we did have access to a validation set. Why do you think this is a good/bad idea? Give one advantage and one disadvantage of the two different approaches. Which one would you trust more in practice?"
   ]
  },
  {
   "cell_type": "markdown",
   "metadata": {},
   "source": [
    "*Your answer goes here*\n",
    "\n"
   ]
  },
  {
   "cell_type": "markdown",
   "metadata": {},
   "source": [
    "### ========== Question 1.27 ==========\n",
    "\n",
    "Reload the full training and validation data that contain all indicator variables for all object categories. Remove the `imgId` attribute but keep all of the class indicator variables in the dataset this time. Your training features should include all attributes except `is_person` which should be your target variable. \n",
    "\n",
    "Once again, use a [StandardScaler](http://scikit-learn.org/0.17/modules/generated/sklearn.preprocessing.StandardScaler.html) to standardise your training and validation features. Then train a Random Forest Classifier by using the entropy `criterion`, 500 `n_estimators`, and also set the `random_state` to 31. Report the classification accuracy on the training and validation sets.\n",
    "\n",
    "Similarly to what we did in Question 1.18, order the features by decreasing importance and display the 50 most important features. \n",
    "\n",
    "Finally, answer the following questions:\n",
    "* What do you notice by looking at the list of the best 50 features?\n",
    "* How does the performance differ with respect to the case when the additional class indicator variables are not present (Question 1.16)? Relate your observations to the observed feature ranking.\n",
    "* Would it be easy to make use of the results in practice? Briey explain your reasoning.\n",
    "\n",
    "*(Hint: you might want to look at some of the [images](http://www.inf.ed.ac.uk/teaching/courses/iaml/2014/assts/asst3/images.html) to justify your explanations.)*"
   ]
  },
  {
   "cell_type": "code",
   "execution_count": 73,
   "metadata": {
    "collapsed": false
   },
   "outputs": [],
   "source": [
    "# Your code goes here\n"
   ]
  },
  {
   "cell_type": "markdown",
   "metadata": {},
   "source": [
    "*Your answer goes here*\n",
    "\n"
   ]
  },
  {
   "cell_type": "markdown",
   "metadata": {},
   "source": [
    "## Mini challenge [30%]"
   ]
  },
  {
   "cell_type": "markdown",
   "metadata": {},
   "source": [
    "*Important: You are allowed to write up to a maximum of 600 words in this part of the assignment. The thoroughness of the exploration and the quality of the resulting discussion is just as important as the final classification performance of your chosen method(s) and credit will be divided accordingly.*"
   ]
  },
  {
   "cell_type": "markdown",
   "metadata": {},
   "source": [
    "In this final part of the assignment we will have a mini object-recognition challenge. Using the data provided you are asked to find the best classiffier for the person/no person classification task. You can apply any preprocessing steps to the data that you think fit and employ any classiffier you like (with the provison that you can explain what the classiffier/preprocessing steps are doing). You can also employ any lessons learnt during the course, either from previous Assignments, the Labs or the lecture material to try and squeeze out as much performance as you possibly can. The only restriction is that all steps must be performed in `Python` by using the `numpy`, `pandas` and `sklearn` packages. You can also make use of `matplotlib` and `seaborn` for visualisation. "
   ]
  },
  {
   "cell_type": "markdown",
   "metadata": {},
   "source": [
    "**Important:** The classification performance metric that we will use for this part is the *cross-entropy* or *logarithmic loss* (see Lab 4). You should familiarise yourself with the metric by reading the `sklearn` [user guide](http://scikit-learn.org/0.17/modules/model_evaluation.html#log-loss) and [documentation](http://scikit-learn.org/0.17/modules/generated/sklearn.metrics.log_loss.html#sklearn.metrics.log_loss). To estimate this metric you will need to evaluate probability outputs, as opposed to discrete predictions which we have used so far to compute classification accuracies. Most models in `sklearn` implement a `predict_proba()` method which returns the posterior probabilities for each class. For instance, if your test set consists of `N` datapoints and there are `K` classes, the method will return a `N` x `K` matrix."
   ]
  },
  {
   "cell_type": "markdown",
   "metadata": {},
   "source": [
    "We provide you with three new data sets: a training set (`train_images_partB.csv`), a validation set (`valid_images_partB.csv`), and a test set (`test_images_partB.csv`). You must use the former two for training and evaluating your models (as you see fit). Once you have chosen your favourite model (and pre-processing steps) you should apply it to the test set (for which no labels are provided). Estimate the posterior proabilities for the data points in the test set and submit your results as part of your answer. Your results will be evaluated in terms of the logarithmic loss metric. You also need to submit a brief description of the approaches you considered, your suggested final approach, and a short explanation of why you chose it. The thoroughness of the exploration and the quality of the resulting discussion is just as important as the final score of your chosen method(s) and credit will be divided accordingly.\n",
    "\n",
    "*Hint: Feature engineering, feature combination, model combination and model parameter optimization can significantly improve performance.*"
   ]
  },
  {
   "cell_type": "markdown",
   "metadata": {},
   "source": [
    "**How to submit your results**: Store the estimated posterior probabilities for the data points in the test set into a 2D numpy array. Then execute the provided cell at the end of this notebook which uses a provided `save_predictions` function to export your results into a `.txt` file (the function will return an error if the provided array has not the right shape). The `.txt` file will be saved where your notebook lives. You are then required to copy this file into your submission folder along with your notebook (see Mecanics section at the top of the notebook) and then submit the two files by using the `submit` command on DICE. You are only required to use the `submit` command once."
   ]
  },
  {
   "cell_type": "markdown",
   "metadata": {},
   "source": [
    "*Your answer goes here (max. 600 words)*\n",
    "\n"
   ]
  },
  {
   "cell_type": "code",
   "execution_count": 74,
   "metadata": {
    "collapsed": true
   },
   "outputs": [],
   "source": [
    "# Your code goes here"
   ]
  },
  {
   "cell_type": "code",
   "execution_count": 75,
   "metadata": {
    "collapsed": false
   },
   "outputs": [
    {
     "ename": "NameError",
     "evalue": "name 'pred_proba' is not defined",
     "output_type": "error",
     "traceback": [
      "\u001b[1;31m---------------------------------------------------------------------------\u001b[0m",
      "\u001b[1;31mNameError\u001b[0m                                 Traceback (most recent call last)",
      "\u001b[1;32m<ipython-input-75-5763f8bf618a>\u001b[0m in \u001b[0;36m<module>\u001b[1;34m()\u001b[0m\n\u001b[0;32m      7\u001b[0m     \u001b[0msavetxt\u001b[0m\u001b[1;33m(\u001b[0m\u001b[1;34m'assignment_3_predictions.txt'\u001b[0m\u001b[1;33m,\u001b[0m \u001b[0mpred_proba\u001b[0m\u001b[1;33m)\u001b[0m\u001b[1;33m\u001b[0m\u001b[0m\n\u001b[0;32m      8\u001b[0m \u001b[1;33m\u001b[0m\u001b[0m\n\u001b[1;32m----> 9\u001b[1;33m \u001b[0msave_predictions\u001b[0m\u001b[1;33m(\u001b[0m\u001b[0mpred_proba\u001b[0m\u001b[1;33m)\u001b[0m \u001b[1;31m# You need to replace \"pred_proba\" with the name of the array\u001b[0m\u001b[1;33m\u001b[0m\u001b[0m\n\u001b[0m\u001b[0;32m     10\u001b[0m                              \u001b[1;31m# which contains the probability estimates for the data in\u001b[0m\u001b[1;33m\u001b[0m\u001b[1;33m\u001b[0m\u001b[0m\n\u001b[0;32m     11\u001b[0m                              \u001b[1;31m# the test set.\u001b[0m\u001b[1;33m\u001b[0m\u001b[1;33m\u001b[0m\u001b[0m\n",
      "\u001b[1;31mNameError\u001b[0m: name 'pred_proba' is not defined"
     ]
    }
   ],
   "source": [
    "# Execute this cell to export your results\n",
    "from numpy import savetxt\n",
    "def save_predictions(pred_proba):\n",
    "    if pred_proba.shape != (1114,2):\n",
    "        raise ValueError('Predicted probabilities array has not the right shape.')\n",
    "    \n",
    "    savetxt('assignment_3_predictions.txt', pred_proba)\n",
    "\n",
    "save_predictions(pred_proba) # You need to replace \"pred_proba\" with the name of the array\n",
    "                             # which contains the probability estimates for the data in \n",
    "                             # the test set."
   ]
  },
  {
   "cell_type": "markdown",
   "metadata": {},
   "source": [
    "*Your answer goes here*\n",
    "\n"
   ]
  }
 ],
 "metadata": {
  "anaconda-cloud": {},
  "kernelspec": {
   "display_name": "Python [iaml]",
   "language": "python",
   "name": "Python [iaml]"
  },
  "language_info": {
   "codemirror_mode": {
    "name": "ipython",
    "version": 2
   },
   "file_extension": ".py",
   "mimetype": "text/x-python",
   "name": "python",
   "nbconvert_exporter": "python",
   "pygments_lexer": "ipython2",
   "version": "2.7.12"
  }
 },
 "nbformat": 4,
 "nbformat_minor": 0
}
